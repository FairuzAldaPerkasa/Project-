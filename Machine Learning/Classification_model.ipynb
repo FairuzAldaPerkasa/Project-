{
 "cells": [
  {
   "cell_type": "code",
   "execution_count": 214,
   "metadata": {
    "id": "BTuhHdIvBg6c"
   },
   "outputs": [],
   "source": [
    "import os\n",
    "import pandas as pd\n",
    "import numpy as np\n",
    "import matplotlib.pyplot as plt\n",
    "from sklearn.preprocessing import MinMaxScaler\n",
    "from keras.models import Sequential\n",
    "from keras.layers import LSTM, Dense, Dropout, BatchNormalization\n",
    "from keras.callbacks import EarlyStopping\n",
    "from tensorflow.keras.regularizers import L1L2\n",
    "from tensorflow.keras.callbacks import ReduceLROnPlateau\n",
    "\n",
    "\n"
   ]
  },
  {
   "cell_type": "code",
   "execution_count": 215,
   "metadata": {},
   "outputs": [
    {
     "data": {
      "text/html": [
       "<div>\n",
       "<style scoped>\n",
       "    .dataframe tbody tr th:only-of-type {\n",
       "        vertical-align: middle;\n",
       "    }\n",
       "\n",
       "    .dataframe tbody tr th {\n",
       "        vertical-align: top;\n",
       "    }\n",
       "\n",
       "    .dataframe thead th {\n",
       "        text-align: right;\n",
       "    }\n",
       "</style>\n",
       "<table border=\"1\" class=\"dataframe\">\n",
       "  <thead>\n",
       "    <tr style=\"text-align: right;\">\n",
       "      <th></th>\n",
       "      <th>Date</th>\n",
       "      <th>Tn</th>\n",
       "      <th>Tx</th>\n",
       "      <th>Tavg</th>\n",
       "      <th>RH_avg</th>\n",
       "      <th>RR</th>\n",
       "      <th>ss</th>\n",
       "      <th>ff_x</th>\n",
       "      <th>ddd_x</th>\n",
       "      <th>ff_avg</th>\n",
       "      <th>rad(m)</th>\n",
       "    </tr>\n",
       "  </thead>\n",
       "  <tbody>\n",
       "    <tr>\n",
       "      <th>0</th>\n",
       "      <td>2020-01-01</td>\n",
       "      <td>25.2</td>\n",
       "      <td>32.0</td>\n",
       "      <td>27.0</td>\n",
       "      <td>82.0</td>\n",
       "      <td>16.5</td>\n",
       "      <td>6.5</td>\n",
       "      <td>7.0</td>\n",
       "      <td>300.0</td>\n",
       "      <td>3.000000</td>\n",
       "      <td>-0.221338</td>\n",
       "    </tr>\n",
       "    <tr>\n",
       "      <th>1</th>\n",
       "      <td>2020-01-02</td>\n",
       "      <td>25.6</td>\n",
       "      <td>31.0</td>\n",
       "      <td>27.9</td>\n",
       "      <td>78.0</td>\n",
       "      <td>5.2</td>\n",
       "      <td>3.5</td>\n",
       "      <td>8.0</td>\n",
       "      <td>270.0</td>\n",
       "      <td>4.000000</td>\n",
       "      <td>-0.200959</td>\n",
       "    </tr>\n",
       "    <tr>\n",
       "      <th>2</th>\n",
       "      <td>2020-01-03</td>\n",
       "      <td>25.3</td>\n",
       "      <td>31.5</td>\n",
       "      <td>27.6</td>\n",
       "      <td>82.0</td>\n",
       "      <td>1.5</td>\n",
       "      <td>5.9</td>\n",
       "      <td>10.0</td>\n",
       "      <td>280.0</td>\n",
       "      <td>6.000000</td>\n",
       "      <td>-0.158172</td>\n",
       "    </tr>\n",
       "    <tr>\n",
       "      <th>3</th>\n",
       "      <td>2020-01-04</td>\n",
       "      <td>26.5</td>\n",
       "      <td>30.5</td>\n",
       "      <td>27.9</td>\n",
       "      <td>77.0</td>\n",
       "      <td>1.7</td>\n",
       "      <td>4.6</td>\n",
       "      <td>12.0</td>\n",
       "      <td>260.0</td>\n",
       "      <td>8.000000</td>\n",
       "      <td>-0.125176</td>\n",
       "    </tr>\n",
       "    <tr>\n",
       "      <th>4</th>\n",
       "      <td>2020-01-05</td>\n",
       "      <td>25.6</td>\n",
       "      <td>31.3</td>\n",
       "      <td>28.6</td>\n",
       "      <td>81.0</td>\n",
       "      <td>8.1</td>\n",
       "      <td>8.0</td>\n",
       "      <td>5.0</td>\n",
       "      <td>6.0</td>\n",
       "      <td>3.133748</td>\n",
       "      <td>-0.127169</td>\n",
       "    </tr>\n",
       "  </tbody>\n",
       "</table>\n",
       "</div>"
      ],
      "text/plain": [
       "         Date    Tn    Tx  Tavg  RH_avg    RR   ss  ff_x  ddd_x    ff_avg  \\\n",
       "0  2020-01-01  25.2  32.0  27.0    82.0  16.5  6.5   7.0  300.0  3.000000   \n",
       "1  2020-01-02  25.6  31.0  27.9    78.0   5.2  3.5   8.0  270.0  4.000000   \n",
       "2  2020-01-03  25.3  31.5  27.6    82.0   1.5  5.9  10.0  280.0  6.000000   \n",
       "3  2020-01-04  26.5  30.5  27.9    77.0   1.7  4.6  12.0  260.0  8.000000   \n",
       "4  2020-01-05  25.6  31.3  28.6    81.0   8.1  8.0   5.0    6.0  3.133748   \n",
       "\n",
       "     rad(m)  \n",
       "0 -0.221338  \n",
       "1 -0.200959  \n",
       "2 -0.158172  \n",
       "3 -0.125176  \n",
       "4 -0.127169  "
      ]
     },
     "metadata": {},
     "output_type": "display_data"
    },
    {
     "data": {
      "text/html": [
       "<div>\n",
       "<style scoped>\n",
       "    .dataframe tbody tr th:only-of-type {\n",
       "        vertical-align: middle;\n",
       "    }\n",
       "\n",
       "    .dataframe tbody tr th {\n",
       "        vertical-align: top;\n",
       "    }\n",
       "\n",
       "    .dataframe thead th {\n",
       "        text-align: right;\n",
       "    }\n",
       "</style>\n",
       "<table border=\"1\" class=\"dataframe\">\n",
       "  <thead>\n",
       "    <tr style=\"text-align: right;\">\n",
       "      <th></th>\n",
       "      <th>Date</th>\n",
       "      <th>Tn</th>\n",
       "      <th>Tx</th>\n",
       "      <th>Tavg</th>\n",
       "      <th>RH_avg</th>\n",
       "      <th>RR</th>\n",
       "      <th>ss</th>\n",
       "      <th>ff_x</th>\n",
       "      <th>ddd_x</th>\n",
       "      <th>ff_avg</th>\n",
       "      <th>rad(m)</th>\n",
       "    </tr>\n",
       "  </thead>\n",
       "  <tbody>\n",
       "    <tr>\n",
       "      <th>726</th>\n",
       "      <td>2022-12-27</td>\n",
       "      <td>25.5</td>\n",
       "      <td>29.5</td>\n",
       "      <td>27.5</td>\n",
       "      <td>83.0</td>\n",
       "      <td>6.0</td>\n",
       "      <td>1.2</td>\n",
       "      <td>9.0</td>\n",
       "      <td>270.0</td>\n",
       "      <td>6.0</td>\n",
       "      <td>-0.024320</td>\n",
       "    </tr>\n",
       "    <tr>\n",
       "      <th>727</th>\n",
       "      <td>2022-12-28</td>\n",
       "      <td>24.5</td>\n",
       "      <td>29.1</td>\n",
       "      <td>26.9</td>\n",
       "      <td>84.0</td>\n",
       "      <td>2.3</td>\n",
       "      <td>0.0</td>\n",
       "      <td>9.0</td>\n",
       "      <td>270.0</td>\n",
       "      <td>5.0</td>\n",
       "      <td>-0.030015</td>\n",
       "    </tr>\n",
       "    <tr>\n",
       "      <th>728</th>\n",
       "      <td>2022-12-29</td>\n",
       "      <td>24.0</td>\n",
       "      <td>30.1</td>\n",
       "      <td>27.0</td>\n",
       "      <td>84.0</td>\n",
       "      <td>35.6</td>\n",
       "      <td>3.2</td>\n",
       "      <td>8.0</td>\n",
       "      <td>260.0</td>\n",
       "      <td>4.0</td>\n",
       "      <td>0.005127</td>\n",
       "    </tr>\n",
       "    <tr>\n",
       "      <th>729</th>\n",
       "      <td>2022-12-30</td>\n",
       "      <td>25.9</td>\n",
       "      <td>30.0</td>\n",
       "      <td>27.6</td>\n",
       "      <td>83.0</td>\n",
       "      <td>1.0</td>\n",
       "      <td>4.9</td>\n",
       "      <td>7.0</td>\n",
       "      <td>310.0</td>\n",
       "      <td>3.0</td>\n",
       "      <td>-0.058673</td>\n",
       "    </tr>\n",
       "    <tr>\n",
       "      <th>730</th>\n",
       "      <td>2022-12-31</td>\n",
       "      <td>24.9</td>\n",
       "      <td>32.2</td>\n",
       "      <td>27.7</td>\n",
       "      <td>83.0</td>\n",
       "      <td>0.0</td>\n",
       "      <td>0.6</td>\n",
       "      <td>7.0</td>\n",
       "      <td>280.0</td>\n",
       "      <td>3.0</td>\n",
       "      <td>-0.401817</td>\n",
       "    </tr>\n",
       "  </tbody>\n",
       "</table>\n",
       "</div>"
      ],
      "text/plain": [
       "           Date    Tn    Tx  Tavg  RH_avg    RR   ss  ff_x  ddd_x  ff_avg  \\\n",
       "726  2022-12-27  25.5  29.5  27.5    83.0   6.0  1.2   9.0  270.0     6.0   \n",
       "727  2022-12-28  24.5  29.1  26.9    84.0   2.3  0.0   9.0  270.0     5.0   \n",
       "728  2022-12-29  24.0  30.1  27.0    84.0  35.6  3.2   8.0  260.0     4.0   \n",
       "729  2022-12-30  25.9  30.0  27.6    83.0   1.0  4.9   7.0  310.0     3.0   \n",
       "730  2022-12-31  24.9  32.2  27.7    83.0   0.0  0.6   7.0  280.0     3.0   \n",
       "\n",
       "       rad(m)  \n",
       "726 -0.024320  \n",
       "727 -0.030015  \n",
       "728  0.005127  \n",
       "729 -0.058673  \n",
       "730 -0.401817  "
      ]
     },
     "metadata": {},
     "output_type": "display_data"
    },
    {
     "data": {
      "text/plain": [
       "Date      0\n",
       "Tn        0\n",
       "Tx        0\n",
       "Tavg      0\n",
       "RH_avg    0\n",
       "RR        0\n",
       "ss        0\n",
       "ff_x      0\n",
       "ddd_x     0\n",
       "ff_avg    0\n",
       "rad(m)    0\n",
       "dtype: int64"
      ]
     },
     "metadata": {},
     "output_type": "display_data"
    },
    {
     "data": {
      "text/plain": [
       "(731, 11)"
      ]
     },
     "metadata": {},
     "output_type": "display_data"
    }
   ],
   "source": [
    "cwd = os.getcwd()\n",
    "# Read the data\n",
    "used_dataset_dir = os.path.join(cwd, 'Used_Dataset/cleaned_data')\n",
    "# Read the data\n",
    "train_data = pd.read_csv(os.path.join(used_dataset_dir, 'cleaned_data_2020_2022.csv'))\n",
    "display(train_data.head())\n",
    "display(train_data.tail())\n",
    "display(train_data.isnull().sum())\n",
    "display(train_data.shape)\n",
    "\n"
   ]
  },
  {
   "cell_type": "code",
   "execution_count": 216,
   "metadata": {
    "id": "s2NODjzVCcZo"
   },
   "outputs": [],
   "source": [
    "def assign_condition(row):\n",
    "    # Kondisi \"Tidak Aman\" - suhu sangat tinggi atau angin sangat kencang\n",
    "    if row['Tx'] > 40 or row['ff_avg'] > 1.5:  # Suhu sangat tinggi atau angin sangat kencang\n",
    "        return 'Tidak Aman'\n",
    "    \n",
    "    # Kondisi \"Tidak Aman\" - suhu sangat tinggi dan kelembapan sangat tinggi\n",
    "    elif row['Tx'] > 38 and row['RH_avg'] > 85:  # Suhu sangat tinggi dan kelembapan sangat tinggi\n",
    "        return 'Tidak Aman'\n",
    "    \n",
    "    # Kondisi \"Tidak Aman\" - suhu rendah dan radiasi tinggi\n",
    "    elif row['Tn'] < 5 and row['rad(m)'] > 800:  # Suhu rendah dan radiasi sangat tinggi\n",
    "        return 'Tidak Aman'\n",
    "    \n",
    "    # Kondisi \"Risiko\" - suhu tinggi dan kelembapan sangat tinggi\n",
    "    elif row['Tavg'] > 32 and row['RH_avg'] > 75:  # Suhu tinggi dan kelembapan sangat tinggi\n",
    "        return 'Risiko'\n",
    "    \n",
    "    # Kondisi \"Risiko\" - suhu tinggi dan radiasi sangat tinggi\n",
    "    elif row['Tavg'] > 32 and row['rad(m)'] > 700:  # Suhu tinggi dan radiasi sangat tinggi\n",
    "        return 'Risiko'\n",
    "    \n",
    "    # Kondisi \"Risiko\" - suhu moderat dan kelembapan tinggi\n",
    "    elif 25 <= row['Tavg'] <= 30 and row['RH_avg'] > 65:  # Suhu sedang dan kelembapan tinggi\n",
    "        return 'Risiko'\n",
    "    \n",
    "    # Kondisi \"Risiko\" - suhu sedang dan angin sedang\n",
    "    elif 25 <= row['Tavg'] <= 30 and 0.5 < row['ff_avg'] <= 1.0:  # Suhu sedang tinggi dan angin sedang\n",
    "        return 'Risiko'\n",
    "    \n",
    "    # Kondisi \"Aman\" - suhu rendah dengan kelembapan rendah\n",
    "    elif row['Tn'] < 15 and row['RH_avg'] < 50:  # Suhu rendah dan kelembapan rendah\n",
    "        return 'Aman'\n",
    "    \n",
    "    # Kondisi \"Aman\" - suhu moderat dan angin ringan\n",
    "    elif 15 <= row['Tavg'] <= 25 and row['ff_avg'] < 0.3:  # Suhu moderat dan angin ringan\n",
    "        return 'Aman'\n",
    "    \n",
    "    # Kondisi \"Aman\" - suhu sedang dan kelembapan sedang\n",
    "    elif 20 <= row['Tavg'] <= 28 and 40 <= row['RH_avg'] <= 60:  # Suhu sedang dan kelembapan sedang\n",
    "        return 'Aman'\n",
    "    \n",
    "    # Jika tidak ada kondisi lain yang memenuhi, anggap kondisi sebagai \"Aman\"\n",
    "    return 'Aman'\n",
    "\n",
    "# Terapkan fungsi untuk menentukan kondisi\n",
    "train_data['Condition'] = train_data.apply(assign_condition, axis=1)"
   ]
  },
  {
   "cell_type": "code",
   "execution_count": 217,
   "metadata": {},
   "outputs": [
    {
     "name": "stdout",
     "output_type": "stream",
     "text": [
      "{'Aman': 0, 'Risiko': 1, 'Tidak Aman': 2}\n",
      "         Date  Condition\n",
      "0  2020-01-01          2\n",
      "1  2020-01-02          2\n",
      "2  2020-01-03          2\n",
      "3  2020-01-04          2\n",
      "4  2020-01-05          2\n"
     ]
    }
   ],
   "source": [
    "# Mengubah label menjadi kategori numerik (Aman: 0, Risiko: 1, Tidak Aman: 2)\n",
    "condition_mapping = {'Aman': 0, 'Risiko': 1, 'Tidak Aman': 2}\n",
    "print(condition_mapping)\n",
    "# Hapus spasi ekstra di awal dan akhir string jika ada\n",
    "train_data['Condition'] = train_data['Condition'].str.strip()\n",
    "# Mencoba pemetaan ulang\n",
    "train_data['Condition'] = train_data['Condition'].map(condition_mapping)\n",
    "\n",
    "# Periksa hasilnya\n",
    "print(train_data[['Date', 'Condition']].head())"
   ]
  },
  {
   "cell_type": "code",
   "execution_count": 218,
   "metadata": {},
   "outputs": [
    {
     "name": "stdout",
     "output_type": "stream",
     "text": [
      "Tidak Aman: 721\n",
      "Risiko: 10\n"
     ]
    }
   ],
   "source": [
    "# Hitung jumlah masing-masing label dalam kolom 'Condition'\n",
    "condition_counts = train_data['Condition'].value_counts()\n",
    "\n",
    "# Mencetak jumlah tiap label dengan deskripsi yang lebih jelas\n",
    "for label, count in condition_counts.items():\n",
    "    # Menampilkan label deskriptif berdasarkan pemetaan\n",
    "    condition_name = [key for key, value in condition_mapping.items() if value == label][0]\n",
    "    print(f\"{condition_name}: {count}\")\n"
   ]
  },
  {
   "cell_type": "code",
   "execution_count": 219,
   "metadata": {},
   "outputs": [
    {
     "name": "stdout",
     "output_type": "stream",
     "text": [
      "         Date        Tn        Tx      Tavg    RH_avg    RR   ss  ff_x  ddd_x  \\\n",
      "0  2020-01-01  0.481481  0.792208  0.500000  0.500000  16.5  6.5   7.0  300.0   \n",
      "1  2020-01-02  0.530864  0.662338  0.660714  0.388889   5.2  3.5   8.0  270.0   \n",
      "2  2020-01-03  0.493827  0.727273  0.607143  0.500000   1.5  5.9  10.0  280.0   \n",
      "3  2020-01-04  0.641975  0.597403  0.660714  0.361111   1.7  4.6  12.0  260.0   \n",
      "4  2020-01-05  0.530864  0.701299  0.785714  0.472222   8.1  8.0   5.0    6.0   \n",
      "\n",
      "     ff_avg    rad(m)  Condition  \n",
      "0  0.222222  0.248500          2  \n",
      "1  0.333333  0.276560          2  \n",
      "2  0.555556  0.335472          2  \n",
      "3  0.777778  0.380904          2  \n",
      "4  0.237083  0.378160          2  \n"
     ]
    }
   ],
   "source": [
    "\n",
    "# Pilih fitur numerik yang akan digunakan untuk normalisasi\n",
    "numerical_features = ['Tn', 'Tx', 'Tavg', 'RH_avg', 'ff_avg', 'rad(m)']\n",
    "\n",
    "# Normalisasi data\n",
    "scaler = MinMaxScaler()\n",
    "train_data[numerical_features] = scaler.fit_transform(train_data[numerical_features])\n",
    "\n",
    "# Periksa data setelah normalisasi\n",
    "print(train_data.head())\n"
   ]
  },
  {
   "cell_type": "code",
   "execution_count": 220,
   "metadata": {},
   "outputs": [],
   "source": [
    "merged_data = train_data.dropna(subset=numerical_features + ['Condition'])\n"
   ]
  },
  {
   "cell_type": "code",
   "execution_count": 221,
   "metadata": {},
   "outputs": [
    {
     "name": "stdout",
     "output_type": "stream",
     "text": [
      "Shape of X: (730, 1, 6)\n",
      "Shape of y: (730,)\n"
     ]
    }
   ],
   "source": [
    "sequence_length = 1\n",
    "data_sequences = []\n",
    "\n",
    "for i in range(len(merged_data) - sequence_length):\n",
    "    sequence = merged_data[numerical_features].iloc[i:i + sequence_length].values\n",
    "    data_sequences.append(sequence)\n",
    "\n",
    "# Convert ke numpy array\n",
    "X = np.array(data_sequences)\n",
    "\n",
    "# Sesuaikan panjang y\n",
    "y = merged_data['Condition'].iloc[sequence_length:].values  # Sesuaikan panjang y dengan X\n",
    "\n",
    "# Verifikasi bentuk data\n",
    "print(f\"Shape of X: {X.shape}\")\n",
    "print(f\"Shape of y: {y.shape}\")\n"
   ]
  },
  {
   "cell_type": "code",
   "execution_count": 222,
   "metadata": {},
   "outputs": [
    {
     "name": "stderr",
     "output_type": "stream",
     "text": [
      "C:\\Users\\Lenovo\\AppData\\Local\\Packages\\PythonSoftwareFoundation.Python.3.12_qbz5n2kfra8p0\\LocalCache\\local-packages\\Python312\\site-packages\\keras\\src\\layers\\rnn\\rnn.py:200: UserWarning: Do not pass an `input_shape`/`input_dim` argument to a layer. When using Sequential models, prefer using an `Input(shape)` object as the first layer in the model instead.\n",
      "  super().__init__(**kwargs)\n"
     ]
    }
   ],
   "source": [
    "# Coba modifikasi model dan hiperparameter\n",
    "lstm_model = Sequential()\n",
    "lstm_model.add(LSTM(64, return_sequences=True,\n",
    "                    input_shape=(sequence_length, len(numerical_features)),\n",
    "                    kernel_regularizer=L1L2(l1=1e-5, l2=1e-4)))\n",
    "lstm_model.add(Dropout(0.5))  # Menambah dropout\n",
    "lstm_model.add(BatchNormalization())\n",
    "lstm_model.add(LSTM(32, return_sequences=False,\n",
    "                    kernel_regularizer=L1L2(l1=1e-5, l2=1e-4)))\n",
    "lstm_model.add(Dropout(0.5))  # Menambah dropout\n",
    "lstm_model.add(Dense(3, activation='softmax'))  # Output layer dengan 3 kelas (Aman, Risiko, Tidak Aman)\n",
    "lstm_model.compile(optimizer='adam', loss='sparse_categorical_crossentropy', metrics=['accuracy'])\n"
   ]
  },
  {
   "cell_type": "code",
   "execution_count": 223,
   "metadata": {},
   "outputs": [],
   "source": [
    "# Callback untuk pengurangan learning rate dan early stopping\n",
    "reduce_lr = ReduceLROnPlateau(monitor='loss', factor=0.5, patience=5, min_lr=1e-6)\n",
    "early_stopping = EarlyStopping(monitor='val_loss', patience=10, restore_best_weights=True)\n"
   ]
  },
  {
   "cell_type": "code",
   "execution_count": 224,
   "metadata": {},
   "outputs": [
    {
     "name": "stdout",
     "output_type": "stream",
     "text": [
      "Epoch 1/30\n",
      "\u001b[1m37/37\u001b[0m \u001b[32m━━━━━━━━━━━━━━━━━━━━\u001b[0m\u001b[37m\u001b[0m \u001b[1m2s\u001b[0m 12ms/step - accuracy: 0.4196 - loss: 1.0725 - val_accuracy: 0.9658 - val_loss: 0.9812 - learning_rate: 0.0010\n",
      "Epoch 2/30\n",
      "\u001b[1m37/37\u001b[0m \u001b[32m━━━━━━━━━━━━━━━━━━━━\u001b[0m\u001b[37m\u001b[0m \u001b[1m0s\u001b[0m 3ms/step - accuracy: 0.8312 - loss: 0.9049 - val_accuracy: 0.9658 - val_loss: 0.7559 - learning_rate: 0.0010\n",
      "Epoch 3/30\n",
      "\u001b[1m37/37\u001b[0m \u001b[32m━━━━━━━━━━━━━━━━━━━━\u001b[0m\u001b[37m\u001b[0m \u001b[1m0s\u001b[0m 3ms/step - accuracy: 0.9702 - loss: 0.6301 - val_accuracy: 0.9658 - val_loss: 0.3955 - learning_rate: 0.0010\n",
      "Epoch 4/30\n",
      "\u001b[1m37/37\u001b[0m \u001b[32m━━━━━━━━━━━━━━━━━━━━\u001b[0m\u001b[37m\u001b[0m \u001b[1m0s\u001b[0m 3ms/step - accuracy: 0.9966 - loss: 0.3058 - val_accuracy: 0.9658 - val_loss: 0.1931 - learning_rate: 0.0010\n",
      "Epoch 5/30\n",
      "\u001b[1m37/37\u001b[0m \u001b[32m━━━━━━━━━━━━━━━━━━━━\u001b[0m\u001b[37m\u001b[0m \u001b[1m0s\u001b[0m 3ms/step - accuracy: 0.9943 - loss: 0.1217 - val_accuracy: 0.9658 - val_loss: 0.1806 - learning_rate: 0.0010\n",
      "Epoch 6/30\n",
      "\u001b[1m37/37\u001b[0m \u001b[32m━━━━━━━━━━━━━━━━━━━━\u001b[0m\u001b[37m\u001b[0m \u001b[1m0s\u001b[0m 3ms/step - accuracy: 0.9976 - loss: 0.0578 - val_accuracy: 0.9658 - val_loss: 0.1955 - learning_rate: 0.0010\n",
      "Epoch 7/30\n",
      "\u001b[1m37/37\u001b[0m \u001b[32m━━━━━━━━━━━━━━━━━━━━\u001b[0m\u001b[37m\u001b[0m \u001b[1m0s\u001b[0m 3ms/step - accuracy: 0.9945 - loss: 0.0528 - val_accuracy: 0.9658 - val_loss: 0.2071 - learning_rate: 0.0010\n",
      "Epoch 8/30\n",
      "\u001b[1m37/37\u001b[0m \u001b[32m━━━━━━━━━━━━━━━━━━━━\u001b[0m\u001b[37m\u001b[0m \u001b[1m0s\u001b[0m 3ms/step - accuracy: 0.9938 - loss: 0.0499 - val_accuracy: 0.9658 - val_loss: 0.2131 - learning_rate: 0.0010\n",
      "Epoch 9/30\n",
      "\u001b[1m37/37\u001b[0m \u001b[32m━━━━━━━━━━━━━━━━━━━━\u001b[0m\u001b[37m\u001b[0m \u001b[1m0s\u001b[0m 3ms/step - accuracy: 0.9965 - loss: 0.0363 - val_accuracy: 0.9658 - val_loss: 0.2202 - learning_rate: 0.0010\n",
      "Epoch 10/30\n",
      "\u001b[1m37/37\u001b[0m \u001b[32m━━━━━━━━━━━━━━━━━━━━\u001b[0m\u001b[37m\u001b[0m \u001b[1m0s\u001b[0m 3ms/step - accuracy: 0.9958 - loss: 0.0364 - val_accuracy: 0.9658 - val_loss: 0.2255 - learning_rate: 0.0010\n",
      "Epoch 11/30\n",
      "\u001b[1m37/37\u001b[0m \u001b[32m━━━━━━━━━━━━━━━━━━━━\u001b[0m\u001b[37m\u001b[0m \u001b[1m0s\u001b[0m 3ms/step - accuracy: 0.9937 - loss: 0.0393 - val_accuracy: 0.9658 - val_loss: 0.2272 - learning_rate: 0.0010\n",
      "Epoch 12/30\n",
      "\u001b[1m37/37\u001b[0m \u001b[32m━━━━━━━━━━━━━━━━━━━━\u001b[0m\u001b[37m\u001b[0m \u001b[1m0s\u001b[0m 3ms/step - accuracy: 0.9920 - loss: 0.0460 - val_accuracy: 0.9658 - val_loss: 0.2286 - learning_rate: 0.0010\n",
      "Epoch 13/30\n",
      "\u001b[1m37/37\u001b[0m \u001b[32m━━━━━━━━━━━━━━━━━━━━\u001b[0m\u001b[37m\u001b[0m \u001b[1m0s\u001b[0m 3ms/step - accuracy: 0.9824 - loss: 0.0646 - val_accuracy: 0.9658 - val_loss: 0.2258 - learning_rate: 0.0010\n",
      "Epoch 14/30\n",
      "\u001b[1m37/37\u001b[0m \u001b[32m━━━━━━━━━━━━━━━━━━━━\u001b[0m\u001b[37m\u001b[0m \u001b[1m0s\u001b[0m 3ms/step - accuracy: 0.9899 - loss: 0.0549 - val_accuracy: 0.9658 - val_loss: 0.2226 - learning_rate: 0.0010\n",
      "Epoch 15/30\n",
      "\u001b[1m37/37\u001b[0m \u001b[32m━━━━━━━━━━━━━━━━━━━━\u001b[0m\u001b[37m\u001b[0m \u001b[1m0s\u001b[0m 3ms/step - accuracy: 0.9920 - loss: 0.0487 - val_accuracy: 0.9658 - val_loss: 0.2175 - learning_rate: 0.0010\n"
     ]
    },
    {
     "name": "stderr",
     "output_type": "stream",
     "text": [
      "WARNING:absl:You are saving your model as an HDF5 file via `model.save()` or `keras.saving.save_model(model)`. This file format is considered legacy. We recommend using instead the native Keras format, e.g. `model.save('my_model.keras')` or `keras.saving.save_model(model, 'my_model.keras')`. \n"
     ]
    },
    {
     "name": "stdout",
     "output_type": "stream",
     "text": [
      "Model LSTM untuk klasifikasi telah disimpan.\n"
     ]
    }
   ],
   "source": [
    "from sklearn.utils import class_weight\n",
    "\n",
    "# Menentukan bobot kelas berdasarkan distribusi\n",
    "class_weights = class_weight.compute_class_weight('balanced', classes=np.unique(y), y=y)\n",
    "class_weight_dict = dict(enumerate(class_weights))\n",
    "\n",
    "# Pelatihan dengan class weights\n",
    "history = lstm_model.fit(\n",
    "    X, y,\n",
    "    epochs=30,\n",
    "    batch_size=16,\n",
    "    verbose=1,\n",
    "    validation_split=0.2,\n",
    "    class_weight=class_weight_dict,  # Menambahkan class weights\n",
    "    callbacks=[reduce_lr, early_stopping]\n",
    ")\n",
    "# Simpan model jika diperlukan\n",
    "lstm_model.save('lstm_classification_model.h5')\n",
    "print(\"Model LSTM untuk klasifikasi telah disimpan.\")\n",
    "\n"
   ]
  },
  {
   "cell_type": "code",
   "execution_count": 225,
   "metadata": {},
   "outputs": [
    {
     "data": {
      "image/png": "[encoded data removed]",
      "text/plain": [
       "<Figure size 640x480 with 1 Axes>"
      ]
     },
     "metadata": {},
     "output_type": "display_data"
    },
    {
     "data": {
      "image/png": "[encoded data removed]",
      "text/plain": [
       "<Figure size 640x480 with 1 Axes>"
      ]
     },
     "metadata": {},
     "output_type": "display_data"
    }
   ],
   "source": [
    "# Plot akurasi selama pelatihan dan validasi\n",
    "plt.plot(history.history['accuracy'], label='Training Accuracy')\n",
    "plt.plot(history.history['val_accuracy'], label='Validation Accuracy')\n",
    "plt.title('Training and Validation Accuracy')\n",
    "plt.xlabel('Epochs')\n",
    "plt.ylabel('Accuracy')\n",
    "plt.legend()\n",
    "plt.show()\n",
    "\n",
    "# Plot loss selama pelatihan dan validasi\n",
    "plt.plot(history.history['loss'], label='Training Loss')\n",
    "plt.plot(history.history['val_loss'], label='Validation Loss')\n",
    "plt.title('Training and Validation Loss')\n",
    "plt.xlabel('Epochs')\n",
    "plt.ylabel('Loss')\n",
    "plt.legend()\n",
    "plt.show()\n"
   ]
  }
 ],
 "metadata": {
  "accelerator": "GPU",
  "colab": {
   "gpuType": "T4",
   "provenance": []
  },
  "kernelspec": {
   "display_name": "Python 3",
   "name": "python3"
  },
  "language_info": {
   "codemirror_mode": {
    "name": "ipython",
    "version": 3
   },
   "file_extension": ".py",
   "mimetype": "text/x-python",
   "name": "python",
   "nbconvert_exporter": "python",
   "pygments_lexer": "ipython3",
   "version": "3.12.7"
  }
 },
 "nbformat": 4,
 "nbformat_minor": 0
}
