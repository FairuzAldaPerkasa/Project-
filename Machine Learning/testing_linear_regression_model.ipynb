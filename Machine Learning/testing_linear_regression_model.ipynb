{
 "cells": [
  {
   "cell_type": "code",
   "execution_count": null,
   "metadata": {},
   "outputs": [],
   "source": [
    "import import_ipynb\n",
    "from linear_regression_model import predict_rad, model\n",
    "from sklearn.preprocessing import StandardScaler\n",
    "from sklearn.model_selection import train_test_split\n",
    "import os\n",
    "import pandas as pd\n",
    "import numpy as np"
   ]
  },
  {
   "cell_type": "code",
   "execution_count": 28,
   "metadata": {},
   "outputs": [],
   "source": [
    "cwd = os.getcwd()\n",
    "# Read the data\n",
    "used_dataset_dir = os.path.join(cwd, 'Used_Dataset')\n",
    "\n",
    "# Read the data\n",
    "weather_df_2022 = pd.read_csv(os.path.join(used_dataset_dir, 'weather_2022.csv'))\n",
    "tidal_df_2022 = pd.read_csv(os.path.join(used_dataset_dir, 'tidal_daily_average_22.csv'))\n"
   ]
  },
  {
   "cell_type": "code",
   "execution_count": 29,
   "metadata": {},
   "outputs": [
    {
     "name": "stdout",
     "output_type": "stream",
     "text": [
      "     Tn    Tx  Tavg  RH_avg    RR   ss  ff_x  ddd_x  ff_avg    rad(m)\n",
      "0  24.4  30.8  28.3    81.0   6.1  7.6   4.0  280.0     3.0  0.326968\n",
      "1  25.3  30.1  27.7    82.0   3.5  4.0   4.0  290.0     2.0  0.270584\n",
      "2  24.1  30.1  27.8    81.0  16.7  2.4   5.0  290.0     3.0  0.079565\n",
      "3  24.6  30.1  26.7    84.0   9.5  2.0   6.0  260.0     3.0  0.001373\n",
      "4  24.5  28.8  26.7    80.0   6.7  2.2   6.0  260.0     2.0 -0.024731\n"
     ]
    }
   ],
   "source": [
    "# Ensure the 'Date' column is in datetime format\n",
    "weather_df_2022.rename(columns={'Time (UTC)': 'Date'}, inplace=True)\n",
    "tidal_df_2022.drop(columns=['Time (UTC)'], inplace=True)\n",
    "\n",
    "weather_df_2022['Date'] = pd.to_datetime(weather_df_2022['Date'], errors='coerce')\n",
    "tidal_df_2022['Date'] = pd.to_datetime(tidal_df_2022['Date'], errors='coerce')\n",
    "\n",
    "# Merge the two dataframes\n",
    "merged_df_2022 = pd.merge(weather_df_2022, tidal_df_2022, on='Date', how='inner')\n",
    "merged_data_sorted = merged_df_2022.sort_values(by='Date')\n",
    "\n",
    "\n",
    "merged_data_sorted.drop(columns=['Date'], inplace=True)\n",
    "\n",
    "print(merged_data_sorted.head())\n"
   ]
  },
  {
   "cell_type": "code",
   "execution_count": 30,
   "metadata": {},
   "outputs": [],
   "source": [
    "cwd = os.getcwd()\n",
    "# Read the data\n",
    "used_dataset_dir = os.path.join(cwd, 'Used_Dataset')\n",
    "\n",
    "# Read the data\n",
    "weather_df_2022 = pd.read_csv(os.path.join(used_dataset_dir, 'weather_2022.csv'))\n",
    "tidal_df_2022 = pd.read_csv(os.path.join(used_dataset_dir, 'tidal_daily_average_22.csv'))\n"
   ]
  },
  {
   "cell_type": "code",
   "execution_count": null,
   "metadata": {},
   "outputs": [
    {
     "name": "stdout",
     "output_type": "stream",
     "text": [
      "\u001b[1m1/1\u001b[0m \u001b[32m━━━━━━━━━━━━━━━━━━━━\u001b[0m\u001b[37m\u001b[0m \u001b[1m0s\u001b[0m 28ms/step\n",
      "Predicted rad(m): -0.0202\n"
     ]
    }
   ],
   "source": [
    "X = merged_data_sorted[['Tn', 'Tx', 'Tavg', 'RH_avg', 'RR', 'ss', 'ff_x', 'ddd_x', 'ff_avg']]\n",
    "y = merged_data_sorted['rad(m)']\n",
    "X_train, X_test, y_train, y_test = train_test_split(X, y, test_size=0.2, random_state=42)\n",
    "scaler = StandardScaler()\n",
    "X_train = scaler.fit_transform(X_train)\n",
    "X_test = scaler.transform(X_test)\n",
    "# Example input features\n",
    "input_features_linear_regression = {\n",
    "    'Tn': 24.5,      # Minimum temperature\n",
    "    'Tx': 30.0,      # Maximum temperature\n",
    "    'Tavg': 28.0,    # Average temperature\n",
    "    'RH_avg': 80.0,  # Average relative humidity\n",
    "    'RR': 5.0,       # Rainfall\n",
    "    'ss': 6.0,       # Sunshine duration\n",
    "    'ff_x': 4.0,     # Maximum wind speed\n",
    "    'ddd_x': 270.0,  # Maximum wind direction\n",
    "    'ff_avg': 3.0    # Average wind speed\n",
    "}\n",
    "\n",
    "# Call the prediction function\n",
    "predicted_rad = predict_rad(input_features_linear_regression, scaler, model)\n",
    "print(f\"Predicted rad(m): {predicted_rad:.4f}\")\n",
    "\n",
    "# input_features_clustering = {\n",
    "#     'Tn': 24.5,      # Minimum temperature\n",
    "#     'Tx': 30.0,      # Maximum temperature\n",
    "#     'Tavg': 28.0,    # Average temperature\n",
    "#     'RH_avg': 80.0,  # Average relative humidity\n",
    "#     'RR': 5.0,       # Rainfall\n",
    "#     'ss': 6.0,       # Sunshine duration\n",
    "#     'ff_x': 4.0,     # Maximum wind speed\n",
    "#     'ddd_x': 270.0,  # Maximum wind direction\n",
    "#     'ff_avg': 3.0,    # Average wind speed\n",
    "#     'rad(m)': predict_rad\n",
    "# }\n"
   ]
  }
 ],
 "metadata": {
  "kernelspec": {
   "display_name": "Python 3",
   "language": "python",
   "name": "python3"
  },
  "language_info": {
   "codemirror_mode": {
    "name": "ipython",
    "version": 3
   },
   "file_extension": ".py",
   "mimetype": "text/x-python",
   "name": "python",
   "nbconvert_exporter": "python",
   "pygments_lexer": "ipython3",
   "version": "3.12.6"
  }
 },
 "nbformat": 4,
 "nbformat_minor": 2
}
