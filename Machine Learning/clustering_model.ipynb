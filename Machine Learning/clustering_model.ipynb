{
 "cells": [
  {
   "cell_type": "code",
   "execution_count": 852,
   "metadata": {
    "id": "BTuhHdIvBg6c"
   },
   "outputs": [],
   "source": [
    "import os\n",
    "import pandas as pd\n",
    "import numpy as np\n",
    "import matplotlib.pyplot as plt\n",
    "from sklearn.preprocessing import MinMaxScaler\n",
    "from keras.models import Sequential\n",
    "from keras.layers import LSTM, Dense, Dropout, BatchNormalization\n",
    "from keras.callbacks import EarlyStopping\n",
    "from tensorflow.keras.regularizers import L1L2\n",
    "from tensorflow.keras.callbacks import ReduceLROnPlateau\n",
    "\n",
    "\n"
   ]
  },
  {
   "cell_type": "code",
   "execution_count": 853,
   "metadata": {},
   "outputs": [
    {
     "name": "stdout",
     "output_type": "stream",
     "text": [
      "   Time (UTC)    Tn    Tx  Tavg  RH_avg    RR   ss  ff_x  ddd_x  ff_avg\n",
      "0  2022-01-01  24.4  30.8  28.3    81.0   6.1  7.6   4.0  280.0     3.0\n",
      "1  2022-01-02  25.3  30.1  27.7    82.0   3.5  4.0   4.0  290.0     2.0\n",
      "2  2022-01-03  24.1  30.1  27.8    81.0  16.7  2.4   5.0  290.0     3.0\n",
      "3  2022-01-04  24.6  30.1  26.7    84.0   9.5  2.0   6.0  260.0     3.0\n",
      "4  2022-01-05  24.5  28.8  26.7    80.0   6.7  2.2   6.0  260.0     2.0\n",
      "         Date                     Time (UTC)    rad(m)\n",
      "0  2022-01-01  2022-01-01 08:04:29.904357120  0.326968\n",
      "1  2022-01-02  2022-01-02 06:24:43.846153984  0.270584\n",
      "2  2022-01-03  2022-01-03 06:09:42.892906752  0.079565\n",
      "3  2022-01-04  2022-01-04 06:11:20.400000000  0.001373\n",
      "4  2022-01-05  2022-01-05 06:05:06.863084800 -0.024731\n"
     ]
    }
   ],
   "source": [
    "import os\n",
    "import pandas as pd\n",
    "\n",
    "# Tentukan direktori dataset\n",
    "cwd = os.getcwd()\n",
    "used_dataset_dir = os.path.join(cwd, 'Used_Dataset')\n",
    "\n",
    "# Membaca data dari file CSV\n",
    "weather_df_2022 = pd.read_csv(os.path.join(used_dataset_dir, 'weather_2022.csv'))\n",
    "tidal_df_2022 = pd.read_csv(os.path.join(used_dataset_dir, 'tidal_daily_average_22.csv'))\n",
    "\n",
    "# Tampilkan 5 baris pertama untuk memeriksa data\n",
    "print(weather_df_2022.head())\n",
    "print(tidal_df_2022.head())\n"
   ]
  },
  {
   "cell_type": "code",
   "execution_count": 854,
   "metadata": {},
   "outputs": [
    {
     "name": "stdout",
     "output_type": "stream",
     "text": [
      "     Tn    Tx  Tavg  RH_avg    RR   ss  ff_x  ddd_x  ff_avg    rad(m)\n",
      "0  24.4  30.8  28.3    81.0   6.1  7.6   4.0  280.0     3.0  0.326968\n",
      "1  25.3  30.1  27.7    82.0   3.5  4.0   4.0  290.0     2.0  0.270584\n",
      "2  24.1  30.1  27.8    81.0  16.7  2.4   5.0  290.0     3.0  0.079565\n",
      "3  24.6  30.1  26.7    84.0   9.5  2.0   6.0  260.0     3.0  0.001373\n",
      "4  24.5  28.8  26.7    80.0   6.7  2.2   6.0  260.0     2.0 -0.024731\n"
     ]
    }
   ],
   "source": [
    "# Pastikan kolom 'Date' dalam format datetime\n",
    "weather_df_2022.rename(columns={'Time (UTC)': 'Date'}, inplace=True)\n",
    "tidal_df_2022.drop(columns=['Time (UTC)'], inplace=True)\n",
    "\n",
    "weather_df_2022['Date'] = pd.to_datetime(weather_df_2022['Date'], errors='coerce')\n",
    "tidal_df_2022['Date'] = pd.to_datetime(tidal_df_2022['Date'], errors='coerce')\n",
    "\n",
    "# Gabungkan kedua dataset berdasarkan tanggal\n",
    "merged_df_2022 = pd.merge(weather_df_2022, tidal_df_2022, on='Date', how='inner')\n",
    "merged_data_sorted = merged_df_2022.sort_values(by='Date')\n",
    "\n",
    "# Hapus kolom 'Date' setelah penggabungan\n",
    "merged_data_sorted.drop(columns=['Date'], inplace=True)\n",
    "print(merged_data_sorted.head())\n"
   ]
  },
  {
   "cell_type": "markdown",
   "metadata": {
    "id": "jddlKxUzG5Ac"
   },
   "source": []
  },
  {
   "cell_type": "code",
   "execution_count": 855,
   "metadata": {
    "id": "s2NODjzVCcZo"
   },
   "outputs": [
    {
     "name": "stdout",
     "output_type": "stream",
     "text": [
      "        Date Condition\n",
      "0 2022-01-01      Aman\n",
      "1 2022-01-02      Aman\n",
      "2 2022-01-03      Aman\n",
      "3 2022-01-04      Aman\n",
      "4 2022-01-05      Aman\n"
     ]
    }
   ],
   "source": [
    "def assign_condition(row):\n",
    "    # Kondisi \"Tidak Aman\" - suhu sangat tinggi atau angin sangat kencang\n",
    "    if row['Tx'] > 40 or row['ff_avg'] > 1.5:  # Suhu sangat tinggi atau angin sangat kencang\n",
    "        return 'Tidak Aman'\n",
    "    \n",
    "    # Kondisi \"Tidak Aman\" - suhu sangat tinggi dan kelembapan sangat tinggi\n",
    "    elif row['Tx'] > 35 and row['RH_avg'] > 90:  # Suhu sangat tinggi dan kelembapan sangat tinggi\n",
    "        return 'Tidak Aman'\n",
    "    \n",
    "    # Kondisi \"Tidak Aman\" - suhu rendah dan radiasi tinggi\n",
    "    elif row['Tn'] < 5 and row['rad(m)'] > 700:  # Suhu rendah dan radiasi sangat tinggi\n",
    "        return 'Tidak Aman'\n",
    "    \n",
    "    # Kondisi \"Risiko\" - suhu tinggi dan kelembapan tinggi\n",
    "    elif row['Tavg'] > 30 and row['RH_avg'] > 70:  # Suhu tinggi dan kelembapan sangat tinggi\n",
    "        return 'Tidak Aman'\n",
    "    \n",
    "    # Kondisi \"Risiko\" - suhu tinggi dan radiasi sangat tinggi\n",
    "    elif row['Tavg'] > 30 and row['rad(m)'] > 600:  # Suhu tinggi dan radiasi sangat tinggi\n",
    "        return 'Risiko'\n",
    "    \n",
    "    # Kondisi \"Risiko\" - suhu moderat dan kelembapan tinggi\n",
    "    elif 25 <= row['Tavg'] <= 30 and row['RH_avg'] > 60:  # Suhu sedang dan kelembapan tinggi\n",
    "        return 'Risiko'\n",
    "    \n",
    "    # Kondisi \"Risiko\" - suhu sedang tinggi dan kecepatan angin sedang\n",
    "    elif row['Tavg'] > 25 and row['ff_avg'] > 0.5 and row['ff_avg'] < 0.7:  # Suhu sedang tinggi dan angin sedang\n",
    "        return 'Risiko'\n",
    "    \n",
    "    # Kondisi \"Aman\" - suhu rendah dengan kelembapan rendah\n",
    "    elif row['Tn'] < 15 and row['RH_avg'] < 60:  # Suhu rendah dan kelembapan rendah\n",
    "        return 'Aman'\n",
    "    \n",
    "    # Kondisi \"Aman\" - suhu moderat dan angin ringan\n",
    "    elif 15 <= row['Tavg'] <= 25 and row['ff_avg'] < 0.3:  # Suhu moderat dan angin ringan\n",
    "        return 'Aman'\n",
    "    \n",
    "    # Kondisi \"Aman\" - suhu sedang dan kelembapan sedang\n",
    "    elif 20 <= row['Tavg'] <= 28 and 40 <= row['RH_avg'] <= 60:  # Suhu sedang dan kelembapan sedang\n",
    "        return 'Aman'\n",
    "    \n",
    "    # Kondisi \"Sangat Aman\" - suhu sangat rendah dan angin sangat ringan\n",
    "    elif row['Tn'] < 5 and row['ff_avg'] < 0.2:  # Suhu sangat rendah dan angin sangat ringan\n",
    "        return 'Sangat Aman'\n",
    "    \n",
    "    # Kondisi \"Sangat Aman\" - suhu sangat rendah dan radiasi sangat rendah\n",
    "    elif row['Tavg'] < 15 and row['rad(m)'] < 200:  # Suhu sangat rendah dan radiasi sangat rendah\n",
    "        return 'Sangat Aman'\n",
    "    \n",
    "    # Kondisi \"Aman\" - suhu moderat dan kelembapan rendah dengan radiasi rendah\n",
    "    elif 15 <= row['Tavg'] <= 25 and row['RH_avg'] < 60 and row['rad(m)'] < 400:  # Suhu moderat, kelembapan rendah, radiasi rendah\n",
    "        return 'Aman'\n",
    "    \n",
    "    # Jika kondisi tidak memenuhi aturan lainnya, anggap kondisi sebagai \"Aman\"\n",
    "    return 'Aman'\n",
    "\n",
    "# Terapkan fungsi untuk menentukan kondisi\n",
    "merged_data['Condition'] = merged_data.apply(assign_condition, axis=1)\n",
    "\n",
    "# Periksa hasilnya\n",
    "print(merged_data[['Date', 'Condition']].head())\n"
   ]
  },
  {
   "cell_type": "code",
   "execution_count": 856,
   "metadata": {},
   "outputs": [
    {
     "name": "stdout",
     "output_type": "stream",
     "text": [
      "0\n"
     ]
    }
   ],
   "source": [
    "condition_mapping = {'Aman': 0, 'Risiko': 1, 'Tidak Aman': 2}\n",
    "merged_data['Condition'] = merged_data['Condition'].map(condition_mapping)\n",
    "\n",
    "# Pastikan tidak ada NaN pada kolom 'Condition'\n",
    "print(merged_data['Condition'].isna().sum())\n"
   ]
  },
  {
   "cell_type": "code",
   "execution_count": 857,
   "metadata": {},
   "outputs": [
    {
     "name": "stdout",
     "output_type": "stream",
     "text": [
      "Aman: 348\n"
     ]
    }
   ],
   "source": [
    "# Hitung jumlah masing-masing label dalam kolom 'Condition'\n",
    "condition_counts = merged_data['Condition'].value_counts()\n",
    "\n",
    "# Mencetak jumlah tiap label dengan deskripsi yang lebih jelas\n",
    "for label, count in condition_counts.items():\n",
    "    # Menampilkan label deskriptif berdasarkan pemetaan\n",
    "    condition_name = [key for key, value in condition_mapping.items() if value == label][0]\n",
    "    print(f\"{condition_name}: {count}\")\n"
   ]
  },
  {
   "cell_type": "code",
   "execution_count": 858,
   "metadata": {},
   "outputs": [
    {
     "name": "stdout",
     "output_type": "stream",
     "text": [
      "        Date        Tn        Tx      Tavg    RH_avg    RR   ss  ff_x  ddd_x  \\\n",
      "0 2022-01-01  0.481481  0.578947  0.750000  0.483871   6.1  7.6   4.0  280.0   \n",
      "1 2022-01-02  0.648148  0.456140  0.634615  0.516129   3.5  4.0   4.0  290.0   \n",
      "2 2022-01-03  0.425926  0.456140  0.653846  0.483871  16.7  2.4   5.0  290.0   \n",
      "3 2022-01-04  0.518519  0.456140  0.442308  0.580645   9.5  2.0   6.0  260.0   \n",
      "4 2022-01-05  0.500000  0.228070  0.442308  0.451613   6.7  2.2   6.0  260.0   \n",
      "\n",
      "     ff_avg    rad(m)  Condition  \n",
      "0  0.222222  1.000000          0  \n",
      "1  0.111111  0.951195          0  \n",
      "2  0.222222  0.785853          0  \n",
      "3  0.222222  0.718172          0  \n",
      "4  0.111111  0.695576          0  \n"
     ]
    }
   ],
   "source": [
    "\n",
    "# Pilih fitur numerik yang akan digunakan untuk normalisasi\n",
    "numerical_features = ['Tn', 'Tx', 'Tavg', 'RH_avg', 'ff_avg', 'rad(m)']\n",
    "\n",
    "# Normalisasi data\n",
    "scaler = MinMaxScaler()\n",
    "merged_data[numerical_features] = scaler.fit_transform(merged_data[numerical_features])\n",
    "\n",
    "# Periksa data setelah normalisasi\n",
    "print(merged_data.head())\n"
   ]
  },
  {
   "cell_type": "code",
   "execution_count": 859,
   "metadata": {},
   "outputs": [],
   "source": [
    "merged_data = merged_data.dropna(subset=numerical_features + ['Condition'])\n"
   ]
  },
  {
   "cell_type": "code",
   "execution_count": 860,
   "metadata": {},
   "outputs": [
    {
     "name": "stdout",
     "output_type": "stream",
     "text": [
      "Shape of X: (338, 10, 6)\n",
      "Shape of y: (338,)\n"
     ]
    }
   ],
   "source": [
    "sequence_length = 10\n",
    "data_sequences = []\n",
    "\n",
    "for i in range(len(merged_data) - sequence_length):\n",
    "    sequence = merged_data[numerical_features].iloc[i:i + sequence_length].values\n",
    "    data_sequences.append(sequence)\n",
    "\n",
    "# Convert ke numpy array\n",
    "X = np.array(data_sequences)\n",
    "\n",
    "# Sesuaikan panjang y\n",
    "y = merged_data['Condition'].iloc[sequence_length:].values  # Sesuaikan panjang y dengan X\n",
    "\n",
    "# Verifikasi bentuk data\n",
    "print(f\"Shape of X: {X.shape}\")\n",
    "print(f\"Shape of y: {y.shape}\")\n"
   ]
  },
  {
   "cell_type": "code",
   "execution_count": 861,
   "metadata": {},
   "outputs": [
    {
     "name": "stderr",
     "output_type": "stream",
     "text": [
      "C:\\Users\\Lenovo\\AppData\\Local\\Packages\\PythonSoftwareFoundation.Python.3.12_qbz5n2kfra8p0\\LocalCache\\local-packages\\Python312\\site-packages\\keras\\src\\layers\\rnn\\rnn.py:200: UserWarning: Do not pass an `input_shape`/`input_dim` argument to a layer. When using Sequential models, prefer using an `Input(shape)` object as the first layer in the model instead.\n",
      "  super().__init__(**kwargs)\n"
     ]
    }
   ],
   "source": [
    "# Coba modifikasi model dan hiperparameter\n",
    "lstm_model = Sequential()\n",
    "lstm_model.add(LSTM(64, return_sequences=True,\n",
    "                    input_shape=(sequence_length, len(numerical_features)),\n",
    "                    kernel_regularizer=L1L2(l1=1e-5, l2=1e-4)))\n",
    "lstm_model.add(Dropout(0.5))  # Menambah dropout\n",
    "lstm_model.add(BatchNormalization())\n",
    "lstm_model.add(LSTM(32, return_sequences=False,\n",
    "                    kernel_regularizer=L1L2(l1=1e-5, l2=1e-4)))\n",
    "lstm_model.add(Dropout(0.5))  # Menambah dropout\n",
    "lstm_model.add(Dense(3, activation='softmax'))  # Output layer dengan 3 kelas (Aman, Risiko, Tidak Aman)\n",
    "lstm_model.compile(optimizer='adam', loss='sparse_categorical_crossentropy', metrics=['accuracy'])\n"
   ]
  },
  {
   "cell_type": "code",
   "execution_count": 862,
   "metadata": {},
   "outputs": [],
   "source": [
    "# Callback untuk pengurangan learning rate dan early stopping\n",
    "reduce_lr = ReduceLROnPlateau(monitor='loss', factor=0.5, patience=5, min_lr=1e-6)\n",
    "early_stopping = EarlyStopping(monitor='val_loss', patience=10, restore_best_weights=True)\n"
   ]
  },
  {
   "cell_type": "code",
   "execution_count": 863,
   "metadata": {},
   "outputs": [
    {
     "name": "stdout",
     "output_type": "stream",
     "text": [
      "Epoch 1/30\n",
      "\u001b[1m17/17\u001b[0m \u001b[32m━━━━━━━━━━━━━━━━━━━━\u001b[0m\u001b[37m\u001b[0m \u001b[1m2s\u001b[0m 26ms/step - accuracy: 0.5733 - loss: 0.9623 - val_accuracy: 1.0000 - val_loss: 0.4928 - learning_rate: 0.0010\n",
      "Epoch 2/30\n",
      "\u001b[1m17/17\u001b[0m \u001b[32m━━━━━━━━━━━━━━━━━━━━\u001b[0m\u001b[37m\u001b[0m \u001b[1m0s\u001b[0m 7ms/step - accuracy: 1.0000 - loss: 0.3075 - val_accuracy: 1.0000 - val_loss: 0.0980 - learning_rate: 0.0010\n",
      "Epoch 3/30\n",
      "\u001b[1m17/17\u001b[0m \u001b[32m━━━━━━━━━━━━━━━━━━━━\u001b[0m\u001b[37m\u001b[0m \u001b[1m0s\u001b[0m 8ms/step - accuracy: 1.0000 - loss: 0.0973 - val_accuracy: 1.0000 - val_loss: 0.0354 - learning_rate: 0.0010\n",
      "Epoch 4/30\n",
      "\u001b[1m17/17\u001b[0m \u001b[32m━━━━━━━━━━━━━━━━━━━━\u001b[0m\u001b[37m\u001b[0m \u001b[1m0s\u001b[0m 8ms/step - accuracy: 1.0000 - loss: 0.0505 - val_accuracy: 1.0000 - val_loss: 0.0251 - learning_rate: 0.0010\n",
      "Epoch 5/30\n",
      "\u001b[1m17/17\u001b[0m \u001b[32m━━━━━━━━━━━━━━━━━━━━\u001b[0m\u001b[37m\u001b[0m \u001b[1m0s\u001b[0m 9ms/step - accuracy: 1.0000 - loss: 0.0310 - val_accuracy: 1.0000 - val_loss: 0.0222 - learning_rate: 0.0010\n",
      "Epoch 6/30\n",
      "\u001b[1m17/17\u001b[0m \u001b[32m━━━━━━━━━━━━━━━━━━━━\u001b[0m\u001b[37m\u001b[0m \u001b[1m0s\u001b[0m 8ms/step - accuracy: 1.0000 - loss: 0.0293 - val_accuracy: 1.0000 - val_loss: 0.0207 - learning_rate: 0.0010\n",
      "Epoch 7/30\n",
      "\u001b[1m17/17\u001b[0m \u001b[32m━━━━━━━━━━━━━━━━━━━━\u001b[0m\u001b[37m\u001b[0m \u001b[1m0s\u001b[0m 8ms/step - accuracy: 1.0000 - loss: 0.0263 - val_accuracy: 1.0000 - val_loss: 0.0199 - learning_rate: 0.0010\n",
      "Epoch 8/30\n",
      "\u001b[1m17/17\u001b[0m \u001b[32m━━━━━━━━━━━━━━━━━━━━\u001b[0m\u001b[37m\u001b[0m \u001b[1m0s\u001b[0m 8ms/step - accuracy: 1.0000 - loss: 0.0231 - val_accuracy: 1.0000 - val_loss: 0.0193 - learning_rate: 0.0010\n",
      "Epoch 9/30\n",
      "\u001b[1m17/17\u001b[0m \u001b[32m━━━━━━━━━━━━━━━━━━━━\u001b[0m\u001b[37m\u001b[0m \u001b[1m0s\u001b[0m 9ms/step - accuracy: 1.0000 - loss: 0.0213 - val_accuracy: 1.0000 - val_loss: 0.0189 - learning_rate: 0.0010\n",
      "Epoch 10/30\n",
      "\u001b[1m17/17\u001b[0m \u001b[32m━━━━━━━━━━━━━━━━━━━━\u001b[0m\u001b[37m\u001b[0m \u001b[1m0s\u001b[0m 8ms/step - accuracy: 1.0000 - loss: 0.0221 - val_accuracy: 1.0000 - val_loss: 0.0185 - learning_rate: 0.0010\n",
      "Epoch 11/30\n",
      "\u001b[1m17/17\u001b[0m \u001b[32m━━━━━━━━━━━━━━━━━━━━\u001b[0m\u001b[37m\u001b[0m \u001b[1m0s\u001b[0m 9ms/step - accuracy: 1.0000 - loss: 0.0202 - val_accuracy: 1.0000 - val_loss: 0.0182 - learning_rate: 0.0010\n",
      "Epoch 12/30\n",
      "\u001b[1m17/17\u001b[0m \u001b[32m━━━━━━━━━━━━━━━━━━━━\u001b[0m\u001b[37m\u001b[0m \u001b[1m0s\u001b[0m 8ms/step - accuracy: 1.0000 - loss: 0.0209 - val_accuracy: 1.0000 - val_loss: 0.0179 - learning_rate: 0.0010\n",
      "Epoch 13/30\n",
      "\u001b[1m17/17\u001b[0m \u001b[32m━━━━━━━━━━━━━━━━━━━━\u001b[0m\u001b[37m\u001b[0m \u001b[1m0s\u001b[0m 8ms/step - accuracy: 1.0000 - loss: 0.0206 - val_accuracy: 1.0000 - val_loss: 0.0177 - learning_rate: 0.0010\n",
      "Epoch 14/30\n",
      "\u001b[1m17/17\u001b[0m \u001b[32m━━━━━━━━━━━━━━━━━━━━\u001b[0m\u001b[37m\u001b[0m \u001b[1m0s\u001b[0m 8ms/step - accuracy: 1.0000 - loss: 0.0212 - val_accuracy: 1.0000 - val_loss: 0.0175 - learning_rate: 0.0010\n",
      "Epoch 15/30\n",
      "\u001b[1m17/17\u001b[0m \u001b[32m━━━━━━━━━━━━━━━━━━━━\u001b[0m\u001b[37m\u001b[0m \u001b[1m0s\u001b[0m 8ms/step - accuracy: 1.0000 - loss: 0.0194 - val_accuracy: 1.0000 - val_loss: 0.0173 - learning_rate: 0.0010\n",
      "Epoch 16/30\n",
      "\u001b[1m17/17\u001b[0m \u001b[32m━━━━━━━━━━━━━━━━━━━━\u001b[0m\u001b[37m\u001b[0m \u001b[1m0s\u001b[0m 8ms/step - accuracy: 1.0000 - loss: 0.0188 - val_accuracy: 1.0000 - val_loss: 0.0171 - learning_rate: 0.0010\n",
      "Epoch 17/30\n",
      "\u001b[1m17/17\u001b[0m \u001b[32m━━━━━━━━━━━━━━━━━━━━\u001b[0m\u001b[37m\u001b[0m \u001b[1m0s\u001b[0m 8ms/step - accuracy: 1.0000 - loss: 0.0190 - val_accuracy: 1.0000 - val_loss: 0.0169 - learning_rate: 0.0010\n",
      "Epoch 18/30\n",
      "\u001b[1m17/17\u001b[0m \u001b[32m━━━━━━━━━━━━━━━━━━━━\u001b[0m\u001b[37m\u001b[0m \u001b[1m0s\u001b[0m 8ms/step - accuracy: 1.0000 - loss: 0.0193 - val_accuracy: 1.0000 - val_loss: 0.0167 - learning_rate: 0.0010\n",
      "Epoch 19/30\n",
      "\u001b[1m17/17\u001b[0m \u001b[32m━━━━━━━━━━━━━━━━━━━━\u001b[0m\u001b[37m\u001b[0m \u001b[1m0s\u001b[0m 8ms/step - accuracy: 1.0000 - loss: 0.0180 - val_accuracy: 1.0000 - val_loss: 0.0165 - learning_rate: 0.0010\n",
      "Epoch 20/30\n",
      "\u001b[1m17/17\u001b[0m \u001b[32m━━━━━━━━━━━━━━━━━━━━\u001b[0m\u001b[37m\u001b[0m \u001b[1m0s\u001b[0m 8ms/step - accuracy: 1.0000 - loss: 0.0178 - val_accuracy: 1.0000 - val_loss: 0.0164 - learning_rate: 0.0010\n",
      "Epoch 21/30\n",
      "\u001b[1m17/17\u001b[0m \u001b[32m━━━━━━━━━━━━━━━━━━━━\u001b[0m\u001b[37m\u001b[0m \u001b[1m0s\u001b[0m 8ms/step - accuracy: 1.0000 - loss: 0.0175 - val_accuracy: 1.0000 - val_loss: 0.0162 - learning_rate: 0.0010\n",
      "Epoch 22/30\n",
      "\u001b[1m17/17\u001b[0m \u001b[32m━━━━━━━━━━━━━━━━━━━━\u001b[0m\u001b[37m\u001b[0m \u001b[1m0s\u001b[0m 8ms/step - accuracy: 1.0000 - loss: 0.0176 - val_accuracy: 1.0000 - val_loss: 0.0160 - learning_rate: 0.0010\n",
      "Epoch 23/30\n",
      "\u001b[1m17/17\u001b[0m \u001b[32m━━━━━━━━━━━━━━━━━━━━\u001b[0m\u001b[37m\u001b[0m \u001b[1m0s\u001b[0m 8ms/step - accuracy: 1.0000 - loss: 0.0171 - val_accuracy: 1.0000 - val_loss: 0.0159 - learning_rate: 0.0010\n",
      "Epoch 24/30\n",
      "\u001b[1m17/17\u001b[0m \u001b[32m━━━━━━━━━━━━━━━━━━━━\u001b[0m\u001b[37m\u001b[0m \u001b[1m0s\u001b[0m 8ms/step - accuracy: 1.0000 - loss: 0.0174 - val_accuracy: 1.0000 - val_loss: 0.0157 - learning_rate: 0.0010\n",
      "Epoch 25/30\n",
      "\u001b[1m17/17\u001b[0m \u001b[32m━━━━━━━━━━━━━━━━━━━━\u001b[0m\u001b[37m\u001b[0m \u001b[1m0s\u001b[0m 9ms/step - accuracy: 1.0000 - loss: 0.0169 - val_accuracy: 1.0000 - val_loss: 0.0155 - learning_rate: 0.0010\n",
      "Epoch 26/30\n",
      "\u001b[1m17/17\u001b[0m \u001b[32m━━━━━━━━━━━━━━━━━━━━\u001b[0m\u001b[37m\u001b[0m \u001b[1m0s\u001b[0m 9ms/step - accuracy: 1.0000 - loss: 0.0162 - val_accuracy: 1.0000 - val_loss: 0.0154 - learning_rate: 0.0010\n",
      "Epoch 27/30\n",
      "\u001b[1m17/17\u001b[0m \u001b[32m━━━━━━━━━━━━━━━━━━━━\u001b[0m\u001b[37m\u001b[0m \u001b[1m0s\u001b[0m 8ms/step - accuracy: 1.0000 - loss: 0.0163 - val_accuracy: 1.0000 - val_loss: 0.0152 - learning_rate: 0.0010\n",
      "Epoch 28/30\n",
      "\u001b[1m17/17\u001b[0m \u001b[32m━━━━━━━━━━━━━━━━━━━━\u001b[0m\u001b[37m\u001b[0m \u001b[1m0s\u001b[0m 7ms/step - accuracy: 1.0000 - loss: 0.0159 - val_accuracy: 1.0000 - val_loss: 0.0150 - learning_rate: 0.0010\n",
      "Epoch 29/30\n",
      "\u001b[1m17/17\u001b[0m \u001b[32m━━━━━━━━━━━━━━━━━━━━\u001b[0m\u001b[37m\u001b[0m \u001b[1m0s\u001b[0m 9ms/step - accuracy: 1.0000 - loss: 0.0156 - val_accuracy: 1.0000 - val_loss: 0.0148 - learning_rate: 0.0010\n",
      "Epoch 30/30\n",
      "\u001b[1m17/17\u001b[0m \u001b[32m━━━━━━━━━━━━━━━━━━━━\u001b[0m\u001b[37m\u001b[0m \u001b[1m0s\u001b[0m 8ms/step - accuracy: 1.0000 - loss: 0.0162 - val_accuracy: 1.0000 - val_loss: 0.0147 - learning_rate: 0.0010\n"
     ]
    }
   ],
   "source": [
    "from sklearn.utils import class_weight\n",
    "\n",
    "# Menentukan bobot kelas berdasarkan distribusi\n",
    "class_weights = class_weight.compute_class_weight('balanced', classes=np.unique(y), y=y)\n",
    "class_weight_dict = dict(enumerate(class_weights))\n",
    "\n",
    "# Pelatihan dengan class weights\n",
    "history = lstm_model.fit(\n",
    "    X, y,\n",
    "    epochs=30,\n",
    "    batch_size=16,\n",
    "    verbose=1,\n",
    "    validation_split=0.2,\n",
    "    class_weight=class_weight_dict,  # Menambahkan class weights\n",
    "    callbacks=[reduce_lr, early_stopping]\n",
    ")\n"
   ]
  },
  {
   "cell_type": "code",
   "execution_count": 864,
   "metadata": {},
   "outputs": [
    {
     "data": {
      "image/png": "[encoded data removed]",
      "text/plain": [
       "<Figure size 640x480 with 1 Axes>"
      ]
     },
     "metadata": {},
     "output_type": "display_data"
    },
    {
     "data": {
      "image/png": "[encoded data removed]",
      "text/plain": [
       "<Figure size 640x480 with 1 Axes>"
      ]
     },
     "metadata": {},
     "output_type": "display_data"
    }
   ],
   "source": [
    "# Plot akurasi selama pelatihan dan validasi\n",
    "plt.plot(history.history['accuracy'], label='Training Accuracy')\n",
    "plt.plot(history.history['val_accuracy'], label='Validation Accuracy')\n",
    "plt.title('Training and Validation Accuracy')\n",
    "plt.xlabel('Epochs')\n",
    "plt.ylabel('Accuracy')\n",
    "plt.legend()\n",
    "plt.show()\n",
    "\n",
    "# Plot loss selama pelatihan dan validasi\n",
    "plt.plot(history.history['loss'], label='Training Loss')\n",
    "plt.plot(history.history['val_loss'], label='Validation Loss')\n",
    "plt.title('Training and Validation Loss')\n",
    "plt.xlabel('Epochs')\n",
    "plt.ylabel('Loss')\n",
    "plt.legend()\n",
    "plt.show()\n"
   ]
  }
 ],
 "metadata": {
  "accelerator": "GPU",
  "colab": {
   "gpuType": "T4",
   "provenance": []
  },
  "kernelspec": {
   "display_name": "Python 3",
   "name": "python3"
  },
  "language_info": {
   "codemirror_mode": {
    "name": "ipython",
    "version": 3
   },
   "file_extension": ".py",
   "mimetype": "text/x-python",
   "name": "python",
   "nbconvert_exporter": "python",
   "pygments_lexer": "ipython3",
   "version": "3.12.7"
  }
 },
 "nbformat": 4,
 "nbformat_minor": 0
}
