{
 "cells": [
  {
   "cell_type": "code",
   "execution_count": 1,
   "metadata": {},
   "outputs": [],
   "source": [
    "from keras.models import load_model\n",
    "import joblib\n",
    "import pandas as pd\n",
    "import numpy as np\n",
    "import json\n"
   ]
  },
  {
   "cell_type": "code",
   "execution_count": 2,
   "metadata": {},
   "outputs": [
    {
     "name": "stderr",
     "output_type": "stream",
     "text": [
      "WARNING:absl:Compiled the loaded model, but the compiled metrics have yet to be built. `model.compile_metrics` will be empty until you train or evaluate the model.\n",
      "WARNING:absl:Compiled the loaded model, but the compiled metrics have yet to be built. `model.compile_metrics` will be empty until you train or evaluate the model.\n"
     ]
    },
    {
     "name": "stdout",
     "output_type": "stream",
     "text": [
      "Model dan scaler loaded successfully.\n"
     ]
    }
   ],
   "source": [
    "# Memuat model dan scaler yang telah disimpan\n",
    "classification_model = load_model('Model/classification_model.h5')\n",
    "classification_scaler = joblib.load('Model/scaler_classification.pkl')  # Memuat scaler yang sudah disimpan\n",
    "regression_model  = load_model('Model/deep_learning_regression_model.h5')\n",
    "regression_scaler = joblib.load('Model/scaler_deep_learning_regression.pkl')\n",
    "print(\"Model dan scaler loaded successfully.\")"
   ]
  },
  {
   "cell_type": "code",
   "execution_count": 3,
   "metadata": {},
   "outputs": [],
   "source": [
    "\n",
    "# Define a function for making predictions\n",
    "def predict_rad(features, scaler, model):\n",
    "    \"\"\"\n",
    "    Predict rad(m) value based on input weather features.\n",
    "\n",
    "    Parameters:\n",
    "        features (dict): A dictionary containing all feature values (Tn, Tx, Tavg, RH_avg, RR, ss, ff_x, ddd_x, ff_avg).\n",
    "        scaler (StandardScaler): Scaler used to normalize the features.\n",
    "        model (Sequential): Trained deep learning model.\n",
    "\n",
    "    Returns:\n",
    "        float: Predicted rad(m) value.\n",
    "    \"\"\"\n",
    "     # Convert input features to a DataFrame with the same column names as the scaler expects\n",
    "    feature_df = pd.DataFrame([features])\n",
    "    \n",
    "    # Scale the input features using the trained scaler\n",
    "    scaled_features = scaler.transform(feature_df)\n",
    "\n",
    "    # Predict rad(m) using the trained model\n",
    "    predicted_value = model.predict(scaled_features)\n",
    "\n",
    "    # Return the predicted rad(m) value\n",
    "    return predicted_value[0][0]\n"
   ]
  },
  {
   "cell_type": "code",
   "execution_count": 4,
   "metadata": {},
   "outputs": [],
   "source": [
    "def predict_condition(input_features, scaler, model):\n",
    "    # Data input baru\n",
    "    # new_data = np.array([[Tn, Tx, Tavg, RH_avg, ff_avg, rad_m]])\n",
    "    new_data = np.array([[input_features['Tn'], input_features['Tx'], input_features['Tavg'], input_features['RH_avg'], input_features['ff_avg'], input_features['rad_m']]])\n",
    "\n",
    "    # Normalisasi data baru menggunakan scaler yang sama seperti yang digunakan saat pelatihan\n",
    "    new_data_scaled = scaler.transform(new_data)\n",
    "\n",
    "    # Reshape data untuk input LSTM (3D tensor)\n",
    "    new_data_reshaped = new_data_scaled.reshape((new_data_scaled.shape[0], 1, new_data_scaled.shape[1]))\n",
    "\n",
    "    # Gunakan model yang dimuat untuk prediksi\n",
    "    prediction = model.predict(new_data_reshaped)\n",
    "\n",
    "    # Tampilkan hasil prediksi (nilai probabilitas, 0 atau 1)\n",
    "    predicted_label = (prediction > 0.5).astype(int)\n",
    "    return 'Aman' if predicted_label[0][0] == 0 else 'Tidak Aman'\n",
    "\n"
   ]
  },
  {
   "cell_type": "code",
   "execution_count": null,
   "metadata": {},
   "outputs": [
    {
     "name": "stdout",
     "output_type": "stream",
     "text": [
      "\u001b[1m1/1\u001b[0m \u001b[32m━━━━━━━━━━━━━━━━━━━━\u001b[0m\u001b[37m\u001b[0m \u001b[1m0s\u001b[0m 115ms/step\n",
      "Predicted rad(m): -0.2025\n"
     ]
    },
    {
     "name": "stderr",
     "output_type": "stream",
     "text": [
      "c:\\Users\\ASUS\\AppData\\Local\\Programs\\Python\\Python312\\Lib\\site-packages\\sklearn\\base.py:493: UserWarning: X does not have valid feature names, but MinMaxScaler was fitted with feature names\n",
      "  warnings.warn(\n"
     ]
    },
    {
     "name": "stdout",
     "output_type": "stream",
     "text": [
      "\u001b[1m1/1\u001b[0m \u001b[32m━━━━━━━━━━━━━━━━━━━━\u001b[0m\u001b[37m\u001b[0m \u001b[1m0s\u001b[0m 268ms/step\n",
      "Predicted condition: Tidak Aman\n",
      "Results saved to prediction_result.json\n"
     ]
    }
   ],
   "source": [
    "#tidak aman\n",
    "input_regression = {\n",
    "    'Tn': 28.96,      # Minimum temperature\n",
    "    'Tx': 28.96,      # Maximum temperature\n",
    "    'Tavg': 28.96,    # Average temperature\n",
    "    'RH_avg': 89,  # Average relative humidity\n",
    "    'ff_avg': 5.66,   # Average wind speed\n",
    "}\n",
    "#aman\n",
    "# input_regression = {\n",
    "#     'Tn' : 22.5,      # Minimum Temperature\n",
    "#     'Tx' : 35.0,      # Maximum Temperature\n",
    "#     'Tavg' : 28.0 ,   # Average Temperature\n",
    "#     'RH_avg' : 75.0,  # Average Relative Humidityp\n",
    "#     'ff_avg' : 3.0 ,  # Average Wind Speed\n",
    "# }\n",
    "\n",
    "# Call the prediction function\n",
    "predicted_rad = predict_rad(input_regression, regression_scaler, regression_model)\n",
    "print(f\"Predicted rad(m): {predicted_rad:.4f}\")\n",
    "\n",
    "#tidak aman\n",
    "input_classification = {\n",
    "    'Tn': 28.96,      # Minimum temperature\n",
    "    'Tx': 28.96,      # Maximum temperature\n",
    "    'Tavg': 28.96,    # Average temperature\n",
    "    'RH_avg': 89,  # Average relative humidity\n",
    "    'ff_avg': 5.66,   # Average wind speed\n",
    "    'rad_m': predicted_rad\n",
    "}\n",
    "#aman\n",
    "# input_classification = {\n",
    "#    'Tn' : 22.5,      # Minimum Temperature\n",
    "#     'Tx' : 35.0,      # Maximum Temperature\n",
    "#     'Tavg' : 28.0 ,   # Average Temperature\n",
    "#     'RH_avg' : 75.0,  # Average Relative Humidityp\n",
    "#     'ff_avg' : 3.0 ,  # Average Wind Speed\n",
    "#     'rad_m': predicted_rad\n",
    "# }\n",
    "# Call the prediction function\n",
    "predicted_condition = predict_condition(input_classification, classification_scaler, classification_model)\n",
    "print(f\"Predicted condition: {predicted_condition}\")\n",
    "\n",
    "# Create a dictionary with the results\n",
    "result = {\n",
    "    'predicted_rad': float(predicted_rad),\n",
    "    'condition': predicted_condition\n",
    "}\n",
    "\n",
    "# Write the result to a JSON file\n",
    "with open('prediction_result.json', 'w') as json_file:\n",
    "    json.dump(result, json_file)\n",
    "\n",
    "print(\"Results saved to prediction_result.json\")"
   ]
  }
 ],
 "metadata": {
  "kernelspec": {
   "display_name": "Python 3",
   "language": "python",
   "name": "python3"
  },
  "language_info": {
   "codemirror_mode": {
    "name": "ipython",
    "version": 3
   },
   "file_extension": ".py",
   "mimetype": "text/x-python",
   "name": "python",
   "nbconvert_exporter": "python",
   "pygments_lexer": "ipython3",
   "version": "3.12.6"
  }
 },
 "nbformat": 4,
 "nbformat_minor": 2
}
