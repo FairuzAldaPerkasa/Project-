{
 "cells": [
  {
   "cell_type": "code",
   "execution_count": 1,
   "metadata": {},
   "outputs": [],
   "source": [
    "import os\n",
    "import pandas as pd\n",
    "import numpy as np\n",
    "import matplotlib.pyplot as plt\n",
    "import seaborn as sns\n",
    "from scipy.stats import zscore"
   ]
  },
  {
   "cell_type": "code",
   "execution_count": 2,
   "metadata": {},
   "outputs": [],
   "source": [
    "cwd = os.getcwd()\n",
    "# Read the data\n",
    "used_dataset_dir = os.path.join(cwd, 'separated_merged')\n",
    "cleaned_dataset_dir = os.path.join(cwd, 'cleaned_data')\n",
    "\n",
    "# Read the data\n",
    "weather_df_2022 = pd.read_csv(os.path.join(used_dataset_dir, 'weather_2022.csv'))\n",
    "tidal_df_2022 = pd.read_csv(os.path.join(used_dataset_dir, 'tidal_daily_average_22.csv'))\n",
    "weather_df_2020 = pd.read_csv(os.path.join(used_dataset_dir, 'weather_2020.csv'))\n",
    "tidal_df_2020 = pd.read_csv(os.path.join(used_dataset_dir, 'tidal_daily_average_20.csv'))\n",
    "weather_df_2019 = pd.read_csv(os.path.join(used_dataset_dir, 'weather_2019.csv'))\n",
    "tidal_df_2019 = pd.read_csv(os.path.join(used_dataset_dir, 'tidal_daily_average_19.csv'))\n"
   ]
  },
  {
   "cell_type": "code",
   "execution_count": 3,
   "metadata": {},
   "outputs": [
    {
     "name": "stdout",
     "output_type": "stream",
     "text": [
      "<class 'pandas.core.frame.DataFrame'>\n",
      "RangeIndex: 1071 entries, 0 to 1070\n",
      "Data columns (total 12 columns):\n",
      " #   Column   Non-Null Count  Dtype         \n",
      "---  ------   --------------  -----         \n",
      " 0   Date     1071 non-null   datetime64[ns]\n",
      " 1   Tn       1059 non-null   float64       \n",
      " 2   Tx       1070 non-null   float64       \n",
      " 3   Tavg     1061 non-null   float64       \n",
      " 4   RH_avg   1061 non-null   float64       \n",
      " 5   RR       1071 non-null   float64       \n",
      " 6   ss       1066 non-null   object        \n",
      " 7   ff_x     1070 non-null   object        \n",
      " 8   ddd_x    1058 non-null   object        \n",
      " 9   ff_avg   1036 non-null   object        \n",
      " 10  ddd_car  635 non-null    object        \n",
      " 11  rad(m)   1071 non-null   float64       \n",
      "dtypes: datetime64[ns](1), float64(6), object(5)\n",
      "memory usage: 100.5+ KB\n"
     ]
    },
    {
     "data": {
      "text/plain": [
       "None"
      ]
     },
     "metadata": {},
     "output_type": "display_data"
    }
   ],
   "source": [
    "# Rename columns biar sama (Date)\n",
    "weather_df_2022.rename(columns={'Time (UTC)': 'Date'}, inplace=True)\n",
    "weather_df_2020.rename(columns={'Tanggal': 'Date'}, inplace=True)\n",
    "weather_df_2019.rename(columns={'Tanggal': 'Date'}, inplace=True)\n",
    "\n",
    "#drop tidal TIME (UTC) columns\n",
    "tidal_df_2022.drop(columns=['Time (UTC)'], inplace=True)\n",
    "tidal_df_2020.drop(columns=['Time (UTC)'], inplace=True)\n",
    "#drop tidal 2019 TIME (UTC), bat(V), ras(m),sw1(min),sw2(min) columns\n",
    "tidal_df_2019.drop(columns=['Time (UTC)'], inplace=True)\n",
    "tidal_df_2019.drop(columns=['bat(V)'], inplace=True)\n",
    "tidal_df_2019.drop(columns=['ras(m)'], inplace=True)\n",
    "tidal_df_2019.drop(columns=['sw1(min)'], inplace=True)\n",
    "tidal_df_2019.drop(columns=['sw2(min)'], inplace=True)\n",
    "\n",
    "# convert Date data weather 2019 and 2020 menjadi  YYYY-MM-DD\n",
    "weather_df_2020['Date'] = pd.to_datetime(weather_df_2020['Date'], format='%d-%m-%Y')\n",
    "weather_df_2019['Date'] = pd.to_datetime(weather_df_2019['Date'], format='%d-%m-%Y')\n",
    "\n",
    "#convert weather data menjadi datetime\n",
    "weather_df_2022['Date'] = pd.to_datetime(weather_df_2022['Date'], errors='coerce')\n",
    "weather_df_2020['Date'] = pd.to_datetime(weather_df_2020['Date'], errors='coerce')\n",
    "weather_df_2019['Date'] = pd.to_datetime(weather_df_2019['Date'], errors='coerce')\n",
    "#convert tidal data menjadi datetime\n",
    "tidal_df_2022['Date'] = pd.to_datetime(tidal_df_2022['Date'], errors='coerce')\n",
    "tidal_df_2020['Date'] = pd.to_datetime(tidal_df_2020['Date'], errors='coerce')\n",
    "tidal_df_2019['Date'] = pd.to_datetime(tidal_df_2019['Date'], errors='coerce')\n",
    "\n",
    "\n",
    "# Merge weather_df_2022 and weather_df_2020\n",
    "merged_weather_df = pd.concat([weather_df_2022, weather_df_2020, weather_df_2019], ignore_index=True)\n",
    "merged_tidal_df = pd.concat([tidal_df_2022, tidal_df_2020, tidal_df_2019], ignore_index=True)\n",
    "\n",
    "\n",
    "# merge weather and tidal data\n",
    "merged_df = pd.merge(merged_weather_df, merged_tidal_df, on='Date', how='inner')\n",
    "display(merged_df.info())"
   ]
  },
  {
   "cell_type": "code",
   "execution_count": 4,
   "metadata": {},
   "outputs": [
    {
     "data": {
      "text/html": [
       "<div>\n",
       "<style scoped>\n",
       "    .dataframe tbody tr th:only-of-type {\n",
       "        vertical-align: middle;\n",
       "    }\n",
       "\n",
       "    .dataframe tbody tr th {\n",
       "        vertical-align: top;\n",
       "    }\n",
       "\n",
       "    .dataframe thead th {\n",
       "        text-align: right;\n",
       "    }\n",
       "</style>\n",
       "<table border=\"1\" class=\"dataframe\">\n",
       "  <thead>\n",
       "    <tr style=\"text-align: right;\">\n",
       "      <th></th>\n",
       "      <th>Date</th>\n",
       "      <th>Tn</th>\n",
       "      <th>Tx</th>\n",
       "      <th>Tavg</th>\n",
       "      <th>RH_avg</th>\n",
       "      <th>RR</th>\n",
       "      <th>ss</th>\n",
       "      <th>ff_x</th>\n",
       "      <th>ddd_x</th>\n",
       "      <th>ff_avg</th>\n",
       "      <th>ddd_car</th>\n",
       "      <th>rad(m)</th>\n",
       "    </tr>\n",
       "  </thead>\n",
       "  <tbody>\n",
       "    <tr>\n",
       "      <th>0</th>\n",
       "      <td>2019-01-01</td>\n",
       "      <td>25.4</td>\n",
       "      <td>33.5</td>\n",
       "      <td>28.0</td>\n",
       "      <td>84.0</td>\n",
       "      <td>3.4</td>\n",
       "      <td>8.0</td>\n",
       "      <td>8</td>\n",
       "      <td>230</td>\n",
       "      <td>5</td>\n",
       "      <td>W</td>\n",
       "      <td>0.101041</td>\n",
       "    </tr>\n",
       "    <tr>\n",
       "      <th>1</th>\n",
       "      <td>2019-01-02</td>\n",
       "      <td>25.8</td>\n",
       "      <td>30.0</td>\n",
       "      <td>27.4</td>\n",
       "      <td>82.0</td>\n",
       "      <td>1.3</td>\n",
       "      <td>6.9</td>\n",
       "      <td>8</td>\n",
       "      <td>290</td>\n",
       "      <td>6</td>\n",
       "      <td>W</td>\n",
       "      <td>0.133389</td>\n",
       "    </tr>\n",
       "    <tr>\n",
       "      <th>2</th>\n",
       "      <td>2019-01-03</td>\n",
       "      <td>25.6</td>\n",
       "      <td>31.0</td>\n",
       "      <td>28.4</td>\n",
       "      <td>74.0</td>\n",
       "      <td>0.3</td>\n",
       "      <td>0.0</td>\n",
       "      <td>10</td>\n",
       "      <td>290</td>\n",
       "      <td>4</td>\n",
       "      <td>NW</td>\n",
       "      <td>0.074654</td>\n",
       "    </tr>\n",
       "    <tr>\n",
       "      <th>3</th>\n",
       "      <td>2019-01-04</td>\n",
       "      <td>NaN</td>\n",
       "      <td>31.4</td>\n",
       "      <td>28.1</td>\n",
       "      <td>75.0</td>\n",
       "      <td>0.3</td>\n",
       "      <td>0.0</td>\n",
       "      <td>4</td>\n",
       "      <td>90</td>\n",
       "      <td>2</td>\n",
       "      <td>E</td>\n",
       "      <td>0.039048</td>\n",
       "    </tr>\n",
       "    <tr>\n",
       "      <th>4</th>\n",
       "      <td>2019-01-05</td>\n",
       "      <td>NaN</td>\n",
       "      <td>32.0</td>\n",
       "      <td>28.2</td>\n",
       "      <td>84.0</td>\n",
       "      <td>0.0</td>\n",
       "      <td>7.5</td>\n",
       "      <td>4</td>\n",
       "      <td>130</td>\n",
       "      <td>2</td>\n",
       "      <td>S</td>\n",
       "      <td>0.012082</td>\n",
       "    </tr>\n",
       "  </tbody>\n",
       "</table>\n",
       "</div>"
      ],
      "text/plain": [
       "        Date    Tn    Tx  Tavg  RH_avg   RR   ss ff_x ddd_x ff_avg ddd_car  \\\n",
       "0 2019-01-01  25.4  33.5  28.0    84.0  3.4  8.0    8   230      5      W    \n",
       "1 2019-01-02  25.8  30.0  27.4    82.0  1.3  6.9    8   290      6      W    \n",
       "2 2019-01-03  25.6  31.0  28.4    74.0  0.3  0.0   10   290      4      NW   \n",
       "3 2019-01-04   NaN  31.4  28.1    75.0  0.3  0.0    4    90      2      E    \n",
       "4 2019-01-05   NaN  32.0  28.2    84.0  0.0  7.5    4   130      2      S    \n",
       "\n",
       "     rad(m)  \n",
       "0  0.101041  \n",
       "1  0.133389  \n",
       "2  0.074654  \n",
       "3  0.039048  \n",
       "4  0.012082  "
      ]
     },
     "metadata": {},
     "output_type": "display_data"
    },
    {
     "data": {
      "text/html": [
       "<div>\n",
       "<style scoped>\n",
       "    .dataframe tbody tr th:only-of-type {\n",
       "        vertical-align: middle;\n",
       "    }\n",
       "\n",
       "    .dataframe tbody tr th {\n",
       "        vertical-align: top;\n",
       "    }\n",
       "\n",
       "    .dataframe thead th {\n",
       "        text-align: right;\n",
       "    }\n",
       "</style>\n",
       "<table border=\"1\" class=\"dataframe\">\n",
       "  <thead>\n",
       "    <tr style=\"text-align: right;\">\n",
       "      <th></th>\n",
       "      <th>Date</th>\n",
       "      <th>Tn</th>\n",
       "      <th>Tx</th>\n",
       "      <th>Tavg</th>\n",
       "      <th>RH_avg</th>\n",
       "      <th>RR</th>\n",
       "      <th>ss</th>\n",
       "      <th>ff_x</th>\n",
       "      <th>ddd_x</th>\n",
       "      <th>ff_avg</th>\n",
       "      <th>ddd_car</th>\n",
       "      <th>rad(m)</th>\n",
       "    </tr>\n",
       "  </thead>\n",
       "  <tbody>\n",
       "    <tr>\n",
       "      <th>1066</th>\n",
       "      <td>2022-12-27</td>\n",
       "      <td>25.5</td>\n",
       "      <td>29.5</td>\n",
       "      <td>27.5</td>\n",
       "      <td>83.0</td>\n",
       "      <td>6.0</td>\n",
       "      <td>1.2</td>\n",
       "      <td>9.0</td>\n",
       "      <td>270.0</td>\n",
       "      <td>6.0</td>\n",
       "      <td>NaN</td>\n",
       "      <td>-0.024320</td>\n",
       "    </tr>\n",
       "    <tr>\n",
       "      <th>1067</th>\n",
       "      <td>2022-12-28</td>\n",
       "      <td>24.5</td>\n",
       "      <td>29.1</td>\n",
       "      <td>26.9</td>\n",
       "      <td>84.0</td>\n",
       "      <td>2.3</td>\n",
       "      <td>0.0</td>\n",
       "      <td>9.0</td>\n",
       "      <td>270.0</td>\n",
       "      <td>5.0</td>\n",
       "      <td>NaN</td>\n",
       "      <td>-0.030015</td>\n",
       "    </tr>\n",
       "    <tr>\n",
       "      <th>1068</th>\n",
       "      <td>2022-12-29</td>\n",
       "      <td>24.0</td>\n",
       "      <td>30.1</td>\n",
       "      <td>27.0</td>\n",
       "      <td>84.0</td>\n",
       "      <td>35.6</td>\n",
       "      <td>3.2</td>\n",
       "      <td>8.0</td>\n",
       "      <td>260.0</td>\n",
       "      <td>4.0</td>\n",
       "      <td>NaN</td>\n",
       "      <td>0.005127</td>\n",
       "    </tr>\n",
       "    <tr>\n",
       "      <th>1069</th>\n",
       "      <td>2022-12-30</td>\n",
       "      <td>25.9</td>\n",
       "      <td>30.0</td>\n",
       "      <td>27.6</td>\n",
       "      <td>83.0</td>\n",
       "      <td>1.0</td>\n",
       "      <td>4.9</td>\n",
       "      <td>7.0</td>\n",
       "      <td>310.0</td>\n",
       "      <td>3.0</td>\n",
       "      <td>NaN</td>\n",
       "      <td>-0.828327</td>\n",
       "    </tr>\n",
       "    <tr>\n",
       "      <th>1070</th>\n",
       "      <td>2022-12-31</td>\n",
       "      <td>24.9</td>\n",
       "      <td>32.2</td>\n",
       "      <td>27.7</td>\n",
       "      <td>83.0</td>\n",
       "      <td>0.0</td>\n",
       "      <td>0.6</td>\n",
       "      <td>7.0</td>\n",
       "      <td>280.0</td>\n",
       "      <td>3.0</td>\n",
       "      <td>NaN</td>\n",
       "      <td>-0.401817</td>\n",
       "    </tr>\n",
       "  </tbody>\n",
       "</table>\n",
       "</div>"
      ],
      "text/plain": [
       "           Date    Tn    Tx  Tavg  RH_avg    RR   ss ff_x  ddd_x ff_avg  \\\n",
       "1066 2022-12-27  25.5  29.5  27.5    83.0   6.0  1.2  9.0  270.0    6.0   \n",
       "1067 2022-12-28  24.5  29.1  26.9    84.0   2.3  0.0  9.0  270.0    5.0   \n",
       "1068 2022-12-29  24.0  30.1  27.0    84.0  35.6  3.2  8.0  260.0    4.0   \n",
       "1069 2022-12-30  25.9  30.0  27.6    83.0   1.0  4.9  7.0  310.0    3.0   \n",
       "1070 2022-12-31  24.9  32.2  27.7    83.0   0.0  0.6  7.0  280.0    3.0   \n",
       "\n",
       "     ddd_car    rad(m)  \n",
       "1066     NaN -0.024320  \n",
       "1067     NaN -0.030015  \n",
       "1068     NaN  0.005127  \n",
       "1069     NaN -0.828327  \n",
       "1070     NaN -0.401817  "
      ]
     },
     "metadata": {},
     "output_type": "display_data"
    },
    {
     "name": "stdout",
     "output_type": "stream",
     "text": [
      "The number of rows in merged_data_sorted: 1071\n",
      "The number of columns in merged_data_sorted: 12\n"
     ]
    }
   ],
   "source": [
    "\n",
    "merged_data_sorted = merged_df.sort_values(by='Date')\n",
    "merged_data_sorted.reset_index(drop=True, inplace=True)\n",
    "display(merged_data_sorted.head())\n",
    "display(merged_data_sorted.tail())\n",
    "# Show the amount of merged_data_sorted\n",
    "print(f'The number of rows in merged_data_sorted: {merged_data_sorted.shape[0]}')\n",
    "print(f'The number of columns in merged_data_sorted: {merged_data_sorted.shape[1]}')"
   ]
  },
  {
   "cell_type": "code",
   "execution_count": 5,
   "metadata": {},
   "outputs": [
    {
     "data": {
      "text/plain": [
       "'Initial null values:'"
      ]
     },
     "metadata": {},
     "output_type": "display_data"
    },
    {
     "data": {
      "text/plain": [
       "Tn        12\n",
       "Tx         1\n",
       "Tavg      10\n",
       "RH_avg    10\n",
       "ff_avg    35\n",
       "rad(m)     0\n",
       "dtype: int64"
      ]
     },
     "metadata": {},
     "output_type": "display_data"
    },
    {
     "name": "stdout",
     "output_type": "stream",
     "text": [
      "Final null values after filling:\n"
     ]
    },
    {
     "data": {
      "text/plain": [
       "Tn        0\n",
       "Tx        0\n",
       "Tavg      0\n",
       "RH_avg    0\n",
       "ff_avg    0\n",
       "rad(m)    0\n",
       "dtype: int64"
      ]
     },
     "metadata": {},
     "output_type": "display_data"
    }
   ],
   "source": [
    "features_to_check = ['Tn', 'Tx', 'Tavg', 'RH_avg', 'ff_avg', 'rad(m)']\n",
    "\n",
    "# Check for null values before processing\n",
    "display(\"Initial null values:\")\n",
    "display(merged_data_sorted[features_to_check].isnull().sum())   \n",
    "\n",
    "# Check the data types to identify 'object' columns\n",
    "# print(\"Data types:\")\n",
    "# display(merged_data_sorted.dtypes)\n",
    "\n",
    "# List of object columns that might need conversion\n",
    "object_columns = ['ss', 'ff_x', 'ddd_x', 'ff_avg', 'rad(m)']\n",
    "\n",
    "# Convert these columns to numeric, coerce invalid values to NaN\n",
    "for col in object_columns:\n",
    "    merged_data_sorted[col] = pd.to_numeric(merged_data_sorted[col], errors='coerce')\n",
    "\n",
    "# Now check for null values after conversion\n",
    "\n",
    "# Select only numeric columns for 'fillna'\n",
    "numeric_columns = merged_data_sorted[features_to_check].select_dtypes(include=['float64', 'int64']).columns\n",
    "\n",
    "# Replace NaN values in numeric columns with their mean\n",
    "merged_data_sorted[numeric_columns] = merged_data_sorted[numeric_columns].fillna(merged_data_sorted[numeric_columns].mean())\n",
    "\n",
    "# Check if there are still any NaN values\n",
    "print(\"Final null values after filling:\")\n",
    "display(merged_data_sorted[features_to_check].isnull().sum())\n"
   ]
  },
  {
   "cell_type": "code",
   "execution_count": 6,
   "metadata": {},
   "outputs": [
    {
     "data": {
      "image/png": "[encoded data removed]",
      "text/plain": [
       "<Figure size 1400x800 with 1 Axes>"
      ]
     },
     "metadata": {},
     "output_type": "display_data"
    }
   ],
   "source": [
    "# Select the features to check for outliers\n",
    "\n",
    "# Create a boxplot for each feature\n",
    "plt.figure(figsize=(14, 8))\n",
    "merged_data_sorted[features_to_check].boxplot()\n",
    "plt.title('Boxplot of Selected Features')\n",
    "plt.xlabel('Features')\n",
    "plt.ylabel('Values')\n",
    "plt.show()"
   ]
  },
  {
   "cell_type": "code",
   "execution_count": 7,
   "metadata": {},
   "outputs": [
    {
     "name": "stdout",
     "output_type": "stream",
     "text": [
      "Outliers using z-scores:\n"
     ]
    },
    {
     "data": {
      "text/plain": [
       "Tn        26\n",
       "Tx         3\n",
       "Tavg       2\n",
       "RH_avg     1\n",
       "ff_avg    15\n",
       "rad(m)    12\n",
       "dtype: int64"
      ]
     },
     "metadata": {},
     "output_type": "display_data"
    },
    {
     "name": "stdout",
     "output_type": "stream",
     "text": [
      "Outliers using IQR:\n"
     ]
    },
    {
     "data": {
      "text/plain": [
       "Tn        13\n",
       "Tx         3\n",
       "Tavg      68\n",
       "RH_avg    57\n",
       "ff_avg     0\n",
       "rad(m)     3\n",
       "dtype: int64"
      ]
     },
     "metadata": {},
     "output_type": "display_data"
    }
   ],
   "source": [
    "def calculate_z_scores_and_outliers(dataframe, numeric_columns):\n",
    "    # Menghitung z-score untuk kolom numerik\n",
    "    z_scores = dataframe[numeric_columns].apply(zscore)\n",
    "\n",
    "    # Tentukan ambang batas untuk outlier\n",
    "    outliers = (z_scores > 3) | (z_scores < -3)\n",
    "\n",
    "    return outliers\n",
    "\n",
    "def detect_outliers(dataframe, numeric_columns):\n",
    "    Q1 = merged_data_sorted[features_to_check].quantile(0.25)\n",
    "    Q3 = merged_data_sorted[features_to_check].quantile(0.75)\n",
    "    IQR = Q3 - Q1\n",
    "\n",
    "    threshold = 3  # atau 2.5\n",
    "\n",
    "    # Tentukan batas bawah dan atas untuk tiap kolom\n",
    "    lower_bound = Q1 - threshold * IQR\n",
    "    upper_bound = Q3 + threshold * IQR\n",
    "\n",
    "    # Outlier: nilai yang lebih kecil dari (Q1 - 1.5 * IQR) atau lebih besar dari (Q3 + 1.5 * IQR)\n",
    "    outliers = (dataframe[numeric_columns] < lower_bound) | (dataframe[numeric_columns] > upper_bound)\n",
    "\n",
    "    return outliers\n",
    "\n",
    "\n",
    "# Call the function\n",
    "outliers_z = calculate_z_scores_and_outliers(merged_data_sorted[features_to_check], numeric_columns)\n",
    "\n",
    "# Call the function\n",
    "outliers = detect_outliers(merged_data_sorted[features_to_check], numeric_columns)\n",
    "\n",
    "print(\"Outliers using z-scores:\")\n",
    "display(outliers_z.sum())\n",
    "print(\"Outliers using IQR:\")\n",
    "display(outliers.sum())"
   ]
  },
  {
   "cell_type": "code",
   "execution_count": 8,
   "metadata": {},
   "outputs": [
    {
     "data": {
      "text/plain": [
       "'Data before removing outliers:'"
      ]
     },
     "metadata": {},
     "output_type": "display_data"
    },
    {
     "data": {
      "text/plain": [
       "(1071, 12)"
      ]
     },
     "metadata": {},
     "output_type": "display_data"
    }
   ],
   "source": [
    "display(\"Data before removing outliers:\")   \n",
    "display(merged_data_sorted.shape)"
   ]
  },
  {
   "cell_type": "markdown",
   "metadata": {},
   "source": [
    "Fix Outlier"
   ]
  },
  {
   "cell_type": "code",
   "execution_count": 9,
   "metadata": {},
   "outputs": [
    {
     "name": "stdout",
     "output_type": "stream",
     "text": [
      "Outliers using z-scores:\n"
     ]
    },
    {
     "data": {
      "text/plain": [
       "Tn        22\n",
       "Tx         4\n",
       "Tavg       6\n",
       "RH_avg     8\n",
       "ff_avg    15\n",
       "rad(m)    11\n",
       "dtype: int64"
      ]
     },
     "metadata": {},
     "output_type": "display_data"
    },
    {
     "name": "stdout",
     "output_type": "stream",
     "text": [
      "Outliers using IQR:\n"
     ]
    },
    {
     "data": {
      "text/plain": [
       "Tn        5\n",
       "Tx        0\n",
       "Tavg      0\n",
       "RH_avg    0\n",
       "ff_avg    0\n",
       "rad(m)    1\n",
       "dtype: int64"
      ]
     },
     "metadata": {},
     "output_type": "display_data"
    }
   ],
   "source": [
    "Q1 = merged_data_sorted[features_to_check].quantile(0.25)\n",
    "Q3 = merged_data_sorted[features_to_check].quantile(0.75)\n",
    "IQR = Q3 - Q1\n",
    "\n",
    "threshold = 3  # atau 2.5\n",
    "\n",
    "# Tentukan batas bawah dan atas untuk tiap kolom\n",
    "lower_bound = Q1 - threshold * IQR\n",
    "upper_bound = Q3 + threshold * IQR\n",
    "\n",
    "# Ganti outlier dengan median hanya untuk kolom dalam features_to_check\n",
    "for column in features_to_check:\n",
    "    median = merged_data_sorted[column].median()\n",
    "    \n",
    "    # Cek apakah nilai lebih kecil dari batas bawah atau lebih besar dari batas atas\n",
    "    outliers_mask = (merged_data_sorted[column] < lower_bound[column]) | (merged_data_sorted[column] > upper_bound[column])\n",
    "    \n",
    "    # Ganti outlier dengan median\n",
    "    merged_data_sorted[column] = merged_data_sorted[column].where(~outliers_mask, median)\n",
    "\n",
    "# Tampilkan data setelah penggantian\n",
    "outliers_z = calculate_z_scores_and_outliers(merged_data_sorted, features_to_check)\n",
    "outliers = detect_outliers(merged_data_sorted, features_to_check)\n",
    "\n",
    "print(\"Outliers using z-scores:\")\n",
    "display(outliers_z.sum())\n",
    "print(\"Outliers using IQR:\")\n",
    "display(outliers.sum())\n"
   ]
  },
  {
   "cell_type": "markdown",
   "metadata": {},
   "source": [
    "fix outliers using z-scores"
   ]
  },
  {
   "cell_type": "code",
   "execution_count": 10,
   "metadata": {},
   "outputs": [
    {
     "name": "stdout",
     "output_type": "stream",
     "text": [
      "Outliers using z-scores:\n"
     ]
    },
    {
     "data": {
      "text/plain": [
       "Tn        15\n",
       "Tx         4\n",
       "Tavg       5\n",
       "RH_avg     3\n",
       "ff_avg     0\n",
       "rad(m)     0\n",
       "dtype: int64"
      ]
     },
     "metadata": {},
     "output_type": "display_data"
    },
    {
     "name": "stdout",
     "output_type": "stream",
     "text": [
      "Outliers using IQR:\n"
     ]
    },
    {
     "data": {
      "text/plain": [
       "Tn        2\n",
       "Tx        0\n",
       "Tavg      0\n",
       "RH_avg    0\n",
       "ff_avg    0\n",
       "rad(m)    0\n",
       "dtype: int64"
      ]
     },
     "metadata": {},
     "output_type": "display_data"
    }
   ],
   "source": [
    "# fix outliers using z-scores\n",
    "# Calculate z-scores for the features\n",
    "z_scores = merged_data_sorted[features_to_check].apply(zscore)\n",
    "\n",
    "# Define a threshold for z-scores to identify outliers\n",
    "threshold = 3\n",
    "\n",
    "# Filter out the rows where any feature has a z-score greater than the threshold\n",
    "merged_data_sorted = merged_data_sorted[(z_scores < threshold).all(axis=1)]\n",
    "\n",
    "# Recalculate outliers after filtering\n",
    "outliers_z = calculate_z_scores_and_outliers(merged_data_sorted, features_to_check)\n",
    "outliers = detect_outliers(merged_data_sorted, features_to_check)\n",
    "\n",
    "print(\"Outliers using z-scores:\")\n",
    "display(outliers_z.sum())\n",
    "print(\"Outliers using IQR:\")\n",
    "display(outliers.sum())\n",
    "\n"
   ]
  },
  {
   "cell_type": "code",
   "execution_count": 11,
   "metadata": {},
   "outputs": [
    {
     "data": {
      "text/plain": [
       "'Data after removing outliers:'"
      ]
     },
     "metadata": {},
     "output_type": "display_data"
    },
    {
     "data": {
      "text/plain": [
       "(1030, 12)"
      ]
     },
     "metadata": {},
     "output_type": "display_data"
    },
    {
     "data": {
      "image/png": "[encoded data removed]",
      "text/plain": [
       "<Figure size 1400x800 with 1 Axes>"
      ]
     },
     "metadata": {},
     "output_type": "display_data"
    }
   ],
   "source": [
    "# Select the features to check for outliers\n",
    "display(\"Data after removing outliers:\")\n",
    "display(merged_data_sorted.shape)\n",
    "\n",
    "# Create a boxplot for each feature\n",
    "plt.figure(figsize=(14, 8))\n",
    "merged_data_sorted[features_to_check].boxplot()\n",
    "plt.title('Boxplot of Selected Features')\n",
    "plt.xlabel('Features')\n",
    "plt.ylabel('Values')\n",
    "plt.show()"
   ]
  },
  {
   "cell_type": "markdown",
   "metadata": {},
   "source": [
    "Remove the outliers\n"
   ]
  },
  {
   "cell_type": "code",
   "execution_count": 12,
   "metadata": {},
   "outputs": [
    {
     "data": {
      "text/plain": [
       "'Data before removing outliers:'"
      ]
     },
     "metadata": {},
     "output_type": "display_data"
    },
    {
     "data": {
      "text/plain": [
       "(1030, 12)"
      ]
     },
     "metadata": {},
     "output_type": "display_data"
    }
   ],
   "source": [
    "display(\"Data before removing outliers:\")   \n",
    "display(merged_data_sorted.shape)"
   ]
  },
  {
   "cell_type": "code",
   "execution_count": 13,
   "metadata": {},
   "outputs": [
    {
     "data": {
      "image/png": "[encoded data removed]",
      "text/plain": [
       "<Figure size 1200x800 with 2 Axes>"
      ]
     },
     "metadata": {},
     "output_type": "display_data"
    }
   ],
   "source": [
    "# Calculate the correlation matrix\n",
    "correlation_matrix = merged_data_sorted[features_to_check].corr()\n",
    "\n",
    "# Set the size of the plot\n",
    "plt.figure(figsize=(12, 8))\n",
    "\n",
    "# Create a heatmap to visualize the correlation matrix\n",
    "sns.heatmap(correlation_matrix, annot=True, cmap='coolwarm', fmt='.2f', linewidths=0.5)\n",
    "\n",
    "# Set the title of the heatmap\n",
    "plt.title('Correlation Matrix Heatmap')\n",
    "\n",
    "# Display the heatmap\n",
    "plt.show()"
   ]
  },
  {
   "cell_type": "markdown",
   "metadata": {},
   "source": [
    "Cleaned Merged\n"
   ]
  },
  {
   "cell_type": "code",
   "execution_count": 14,
   "metadata": {},
   "outputs": [],
   "source": [
    "# Save the merged data to a new CSV file\n",
    "merged_data_sorted.to_csv(os.path.join(cleaned_dataset_dir, 'used_cleaned_data.csv'), index=False)"
   ]
  }
 ],
 "metadata": {
  "kernelspec": {
   "display_name": "Python 3",
   "language": "python",
   "name": "python3"
  },
  "language_info": {
   "codemirror_mode": {
    "name": "ipython",
    "version": 3
   },
   "file_extension": ".py",
   "mimetype": "text/x-python",
   "name": "python",
   "nbconvert_exporter": "python",
   "pygments_lexer": "ipython3",
   "version": "3.12.6"
  }
 },
 "nbformat": 4,
 "nbformat_minor": 2
}
