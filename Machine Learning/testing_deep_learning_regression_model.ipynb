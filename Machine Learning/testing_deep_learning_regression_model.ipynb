{
 "cells": [
  {
   "cell_type": "code",
   "execution_count": 17,
   "metadata": {},
   "outputs": [],
   "source": [
    "from keras.models import load_model\n",
    "import joblib\n",
    "import pandas as pd"
   ]
  },
  {
   "cell_type": "code",
   "execution_count": 18,
   "metadata": {},
   "outputs": [],
   "source": [
    "\n",
    "# Define a function for making predictions\n",
    "def predict_rad(features, scaler, model):\n",
    "    \"\"\"\n",
    "    Predict rad(m) value based on input weather features.\n",
    "\n",
    "    Parameters:\n",
    "        features (dict): A dictionary containing all feature values (Tn, Tx, Tavg, RH_avg, RR, ss, ff_x, ddd_x, ff_avg).\n",
    "        scaler (StandardScaler): Scaler used to normalize the features.\n",
    "        model (Sequential): Trained deep learning model.\n",
    "\n",
    "    Returns:\n",
    "        float: Predicted rad(m) value.\n",
    "    \"\"\"\n",
    "     # Convert input features to a DataFrame with the same column names as the scaler expects\n",
    "    feature_df = pd.DataFrame([features])\n",
    "    \n",
    "    # Scale the input features using the trained scaler\n",
    "    scaled_features = scaler.transform(feature_df)\n",
    "\n",
    "    # Predict rad(m) using the trained model\n",
    "    predicted_value = model.predict(scaled_features)\n",
    "\n",
    "    # Return the predicted rad(m) value\n",
    "    return predicted_value[0][0]\n"
   ]
  },
  {
   "cell_type": "code",
   "execution_count": null,
   "metadata": {},
   "outputs": [
    {
     "name": "stderr",
     "output_type": "stream",
     "text": [
      "WARNING:absl:Compiled the loaded model, but the compiled metrics have yet to be built. `model.compile_metrics` will be empty until you train or evaluate the model.\n"
     ]
    },
    {
     "name": "stdout",
     "output_type": "stream",
     "text": [
      "Model dan scaler loaded successfully.\n",
      "\u001b[1m1/1\u001b[0m \u001b[32m━━━━━━━━━━━━━━━━━━━━\u001b[0m\u001b[37m\u001b[0m \u001b[1m0s\u001b[0m 125ms/step\n",
      "Predicted rad(m): -0.2025\n"
     ]
    }
   ],
   "source": [
    "model = load_model('Model/deep_learning_regression_model.h5')\n",
    "print(\"Model dan scaler loaded successfully.\")\n",
    "scaler = joblib.load('Model/scaler_deep_learning_regression.pkl')  # Memuat scaler yang sudah disimpan\n",
    "\n",
    "# Example input features\n",
    "# Contoh penggunaan:\n",
    "input_features = {\n",
    "    'Tn': 28.96,      # Minimum temperature\n",
    "    'Tx': 28.96,      # Maximum temperature\n",
    "    'Tavg': 28.96,    # Average temperature\n",
    "    'RH_avg': 89,  # Average relative humidity\n",
    "    'ff_avg': 5.66,   # Average wind speed\n",
    "}\n",
    "# input_features = {\n",
    "#     'Tn' : 22.5,      # Minimum Temperature\n",
    "#     'Tx' : 35.0,      # Maximum Temperature\n",
    "#     'Tavg' : 28.0 ,   # Average Temperature\n",
    "#     'RH_avg' : 75.0,  # Average Relative Humidityp\n",
    "#     'ff_avg' : 3.0 ,  # Average Wind Speed\n",
    "# }\n",
    "\n",
    "\n",
    "# Call the prediction function\n",
    "predicted_rad = predict_rad(input_features, scaler, model)\n",
    "print(f\"Predicted rad(m): {predicted_rad:.4f}\")\n",
    "\n"
   ]
  }
 ],
 "metadata": {
  "kernelspec": {
   "display_name": "Python 3",
   "language": "python",
   "name": "python3"
  },
  "language_info": {
   "codemirror_mode": {
    "name": "ipython",
    "version": 3
   },
   "file_extension": ".py",
   "mimetype": "text/x-python",
   "name": "python",
   "nbconvert_exporter": "python",
   "pygments_lexer": "ipython3",
   "version": "3.12.6"
  }
 },
 "nbformat": 4,
 "nbformat_minor": 2
}
