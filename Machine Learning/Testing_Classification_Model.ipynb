{
 "cells": [
  {
   "cell_type": "code",
   "execution_count": 17,
   "metadata": {},
   "outputs": [
    {
     "name": "stderr",
     "output_type": "stream",
     "text": [
      "WARNING:absl:Compiled the loaded model, but the compiled metrics have yet to be built. `model.compile_metrics` will be empty until you train or evaluate the model.\n"
     ]
    },
    {
     "name": "stdout",
     "output_type": "stream",
     "text": [
      "Model dan scaler loaded successfully.\n"
     ]
    }
   ],
   "source": [
    "from keras.models import load_model\n",
    "import numpy as np\n",
    "from sklearn.preprocessing import MinMaxScaler\n",
    "import joblib  # Untuk menyimpan dan memuat scaler\n",
    "\n",
    "# Memuat model dan scaler yang telah disimpan\n",
    "model = load_model('classification_model.h5')\n",
    "scaler = joblib.load('scaler.pkl')  # Memuat scaler yang sudah disimpan\n",
    "print(\"Model dan scaler loaded successfully.\")\n",
    "\n",
    "# Fungsi untuk menginputkan data dan memprediksi\n",
    "def predict_condition(input_features):\n",
    "    # Data input baru\n",
    "    # new_data = np.array([[Tn, Tx, Tavg, RH_avg, ff_avg, rad_m]])\n",
    "    new_data = np.array([[input_features['Tn'], input_features['Tx'], input_features['Tavg'], input_features['RH_avg'], input_features['ff_avg'], input_features['rad_m']]])\n",
    "\n",
    "    # Normalisasi data baru menggunakan scaler yang sama seperti yang digunakan saat pelatihan\n",
    "    new_data_scaled = scaler.transform(new_data)\n",
    "\n",
    "    # Reshape data untuk input LSTM (3D tensor)\n",
    "    new_data_reshaped = new_data_scaled.reshape((new_data_scaled.shape[0], 1, new_data_scaled.shape[1]))\n",
    "\n",
    "    # Gunakan model yang dimuat untuk prediksi\n",
    "    prediction = model.predict(new_data_reshaped)\n",
    "\n",
    "    # Tampilkan hasil prediksi (nilai probabilitas, 0 atau 1)\n",
    "    predicted_label = (prediction > 0.5).astype(int)\n",
    "    return 'Aman' if predicted_label[0][0] == 0 else 'Tidak Aman'\n",
    "\n"
   ]
  },
  {
   "cell_type": "code",
   "execution_count": 18,
   "metadata": {},
   "outputs": [
    {
     "name": "stderr",
     "output_type": "stream",
     "text": [
      "c:\\Users\\ASUS\\AppData\\Local\\Programs\\Python\\Python312\\Lib\\site-packages\\sklearn\\base.py:493: UserWarning: X does not have valid feature names, but MinMaxScaler was fitted with feature names\n",
      "  warnings.warn(\n"
     ]
    },
    {
     "name": "stdout",
     "output_type": "stream",
     "text": [
      "\u001b[1m1/1\u001b[0m \u001b[32m━━━━━━━━━━━━━━━━━━━━\u001b[0m\u001b[37m\u001b[0m \u001b[1m0s\u001b[0m 183ms/step\n",
      "Kondisi Prediksi: Aman\n"
     ]
    }
   ],
   "source": [
    "# Contoh penggunaan:\n",
    "# input_features = {\n",
    "#     'Tn': 28.96,      # Minimum temperature\n",
    "#     'Tx': 28.96,      # Maximum temperature\n",
    "#     'Tavg': 28.96,    # Average temperature\n",
    "#     'RH_avg': 89,  # Average relative humidity\n",
    "#     'ff_avg': 5.66,   # Average wind speed\n",
    "#     'rad_m': -0.1983     # radar   \n",
    "# }\n",
    "input_features = {\n",
    "    'Tn' : 22.5,      # Minimum Temperature\n",
    "    'Tx' : 35.0,      # Maximum Temperature\n",
    "    'Tavg' : 28.0 ,   # Average Temperature\n",
    "    'RH_avg' : 75.0,  # Average Relative Humidity\n",
    "    'ff_avg' : 3.0 ,  # Average Wind Speed\n",
    "    'rad_m' : 0.8    # Normalized tidal height\n",
    "}\n",
    "\n",
    "\n",
    "# Prediksi kondisi berdasarkan inputan\n",
    "condition = predict_condition(input_features)\n",
    "print(f\"Kondisi Prediksi: {condition}\")\n"
   ]
  }
 ],
 "metadata": {
  "kernelspec": {
   "display_name": "Python 3",
   "language": "python",
   "name": "python3"
  },
  "language_info": {
   "codemirror_mode": {
    "name": "ipython",
    "version": 3
   },
   "file_extension": ".py",
   "mimetype": "text/x-python",
   "name": "python",
   "nbconvert_exporter": "python",
   "pygments_lexer": "ipython3",
   "version": "3.12.6"
  }
 },
 "nbformat": 4,
 "nbformat_minor": 2
}
