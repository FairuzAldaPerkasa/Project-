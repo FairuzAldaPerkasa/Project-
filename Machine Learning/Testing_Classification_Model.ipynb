{
 "cells": [
  {
   "cell_type": "code",
   "execution_count": 73,
   "metadata": {},
   "outputs": [
    {
     "name": "stdout",
     "output_type": "stream",
     "text": [
      "\u001b[1m1/1\u001b[0m \u001b[32m━━━━━━━━━━━━━━━━━━━━\u001b[0m\u001b[37m\u001b[0m \u001b[1m0s\u001b[0m 24ms/step\n",
      "Predicted condition: Tidak Aman\n"
     ]
    }
   ],
   "source": [
    "import numpy as np\n",
    "from sklearn.preprocessing import MinMaxScaler\n",
    "\n",
    "# [Tn, Tx, Tavg, RH_avg, ff_avg, rad(m)]\n",
    "# Contoh input yang memenuhi syarat \"Aman\"\n",
    "# Misalnya: suhu rendah, kelembapan sedang, kecepatan angin rendah\n",
    "test_input_single = np.array([[18, 22, 20, 60, 0.2, -0.0202]])\n",
    "\n",
    "# Normalisasi input menggunakan MinMaxScaler (gunakan scaler yang sama seperti saat pelatihan)\n",
    "scaler = MinMaxScaler()\n",
    "\n",
    "# Normalisasi input\n",
    "test_input_scaled = scaler.fit_transform(test_input_single)\n",
    "\n",
    "# LSTM membutuhkan input dalam bentuk (samples, time_steps, features)\n",
    "# Karena hanya ada 1 input, kita reshape menjadi (1, 1, number_of_features)\n",
    "test_input_sequence = test_input_scaled.reshape(1, 1, len(test_input_scaled[0]))\n",
    "\n",
    "# Prediksi menggunakan model yang telah dilatih\n",
    "predicted_condition = lstm_model.predict(test_input_sequence)\n",
    "\n",
    "# Mengambil kelas dengan probabilitas tertinggi (menggunakan softmax output)\n",
    "predicted_class = np.argmax(predicted_condition, axis=1)\n",
    "\n",
    "# Mapping kelas numerik ke label deskriptif\n",
    "condition_mapping = {0: 'Aman', 1: 'Risiko', 2: 'Tidak Aman'}\n",
    "predicted_label = condition_mapping[predicted_class[0]]\n",
    "\n",
    "# Menampilkan hasil prediksi\n",
    "print(f\"Predicted condition: {predicted_label}\")\n"
   ]
  }
 ],
 "metadata": {
  "kernelspec": {
   "display_name": "Python 3",
   "language": "python",
   "name": "python3"
  },
  "language_info": {
   "codemirror_mode": {
    "name": "ipython",
    "version": 3
   },
   "file_extension": ".py",
   "mimetype": "text/x-python",
   "name": "python",
   "nbconvert_exporter": "python",
   "pygments_lexer": "ipython3",
   "version": "3.12.7"
  }
 },
 "nbformat": 4,
 "nbformat_minor": 2
}
