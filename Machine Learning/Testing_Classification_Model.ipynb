{
 "cells": [
  {
   "cell_type": "code",
   "execution_count": null,
   "execution_count": 1,
   "metadata": {},
   "outputs": [
    {
     "ename": "NameError",
     "evalue": "name 'lstm_model' is not defined",
     "output_type": "error",
     "traceback": [
      "\u001b[1;31m---------------------------------------------------------------------------\u001b[0m",
      "\u001b[1;31mNameError\u001b[0m                                 Traceback (most recent call last)",
      "Cell \u001b[1;32mIn[1], line 20\u001b[0m\n\u001b[0;32m     17\u001b[0m test_input_sequence \u001b[38;5;241m=\u001b[39m test_input_scaled\u001b[38;5;241m.\u001b[39mreshape(\u001b[38;5;241m1\u001b[39m, \u001b[38;5;241m1\u001b[39m, \u001b[38;5;28mlen\u001b[39m(test_input_scaled[\u001b[38;5;241m0\u001b[39m]))\n\u001b[0;32m     19\u001b[0m \u001b[38;5;66;03m# Prediksi menggunakan model yang telah dilatih\u001b[39;00m\n\u001b[1;32m---> 20\u001b[0m predicted_condition \u001b[38;5;241m=\u001b[39m \u001b[43mlstm_model\u001b[49m\u001b[38;5;241m.\u001b[39mpredict(test_input_sequence)\n\u001b[0;32m     22\u001b[0m \u001b[38;5;66;03m# Mengambil kelas dengan probabilitas tertinggi (menggunakan softmax output)\u001b[39;00m\n\u001b[0;32m     23\u001b[0m predicted_class \u001b[38;5;241m=\u001b[39m np\u001b[38;5;241m.\u001b[39margmax(predicted_condition, axis\u001b[38;5;241m=\u001b[39m\u001b[38;5;241m1\u001b[39m)\n",
      "\u001b[1;31mNameError\u001b[0m: name 'lstm_model' is not defined"
     ]
    }
   ],
   "source": [
    "import numpy as np\n",
    "from sklearn.preprocessing import MinMaxScaler\n",
    "\n",
    "# [Tn, Tx, Tavg, RH_avg, ff_avg, rad(m)]\n",
    "# Contoh input yang memenuhi syarat \"Aman\"\n",
    "# Misalnya: suhu rendah, kelembapan sedang, kecepatan angin rendah\n",
    "test_input_single = np.array([[18, 22, 20, 60, 0.2, -0.0202]])\n",
    "\n",
    "# Normalisasi input menggunakan MinMaxScaler (gunakan scaler yang sama seperti saat pelatihan)\n",
    "scaler = MinMaxScaler()\n",
    "\n",
    "# Normalisasi input\n",
    "test_input_scaled = scaler.fit_transform(test_input_single)\n",
    "\n",
    "# LSTM membutuhkan input dalam bentuk (samples, time_steps, features)\n",
    "# Karena hanya ada 1 input, kita reshape menjadi (1, 1, number_of_features)\n",
    "test_input_sequence = test_input_scaled.reshape(1, 1, len(test_input_scaled[0]))\n",
    "\n",
    "# Prediksi menggunakan model yang telah dilatih\n",
    "predicted_condition = lstm_model.predict(test_input_sequence)\n",
    "\n",
    "# Mengambil kelas dengan probabilitas tertinggi (menggunakan softmax output)\n",
    "predicted_class = np.argmax(predicted_condition, axis=1)\n",
    "\n",
    "# Mapping kelas numerik ke label deskriptif\n",
    "condition_mapping = {0: 'Aman', 1: 'Risiko', 2: 'Tidak Aman'}\n",
    "predicted_label = condition_mapping[predicted_class[0]]\n",
    "\n",
    "# Menampilkan hasil prediksi\n",
    "print(f\"Predicted condition: {predicted_label}\")\n"
   ]
  }
 ],
 "metadata": {
  "kernelspec": {
   "display_name": "Python 3",
   "language": "python",
   "name": "python3"
  },
  "language_info": {
   "codemirror_mode": {
    "name": "ipython",
    "version": 3
   },
   "file_extension": ".py",
   "mimetype": "text/x-python",
   "name": "python",
   "nbconvert_exporter": "python",
   "pygments_lexer": "ipython3",
   "version": "3.12.6"
  }
 },
 "nbformat": 4,
 "nbformat_minor": 2
}
