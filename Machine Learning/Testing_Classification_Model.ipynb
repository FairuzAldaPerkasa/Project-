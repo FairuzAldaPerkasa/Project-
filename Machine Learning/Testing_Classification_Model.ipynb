{
 "cells": [
  {
   "cell_type": "code",
   "execution_count": 4,
   "metadata": {},
   "outputs": [
    {
     "name": "stderr",
     "output_type": "stream",
     "text": [
      "WARNING:absl:Compiled the loaded model, but the compiled metrics have yet to be built. `model.compile_metrics` will be empty until you train or evaluate the model.\n"
     ]
    },
    {
     "name": "stdout",
     "output_type": "stream",
     "text": [
      "Model loaded successfully.\n"
     ]
    },
    {
     "ename": "ValueError",
     "evalue": "could not convert string to float: '28.96,28.96'",
     "output_type": "error",
     "traceback": [
      "\u001b[1;31m---------------------------------------------------------------------------\u001b[0m",
      "\u001b[1;31mValueError\u001b[0m                                Traceback (most recent call last)",
      "Cell \u001b[1;32mIn[4], line 31\u001b[0m\n\u001b[0;32m     26\u001b[0m     \u001b[38;5;28;01mreturn\u001b[39;00m \u001b[38;5;124m'\u001b[39m\u001b[38;5;124mAman\u001b[39m\u001b[38;5;124m'\u001b[39m \u001b[38;5;28;01mif\u001b[39;00m predicted_label[\u001b[38;5;241m0\u001b[39m][\u001b[38;5;241m0\u001b[39m] \u001b[38;5;241m==\u001b[39m \u001b[38;5;241m0\u001b[39m \u001b[38;5;28;01melse\u001b[39;00m \u001b[38;5;124m'\u001b[39m\u001b[38;5;124mTidak Aman\u001b[39m\u001b[38;5;124m'\u001b[39m\n\u001b[0;32m     29\u001b[0m \u001b[38;5;66;03m# Contoh penggunaan:\u001b[39;00m\n\u001b[0;32m     30\u001b[0m \u001b[38;5;66;03m# Menginputkan fitur untuk prediksi\u001b[39;00m\n\u001b[1;32m---> 31\u001b[0m Tn \u001b[38;5;241m=\u001b[39m \u001b[38;5;28;43mfloat\u001b[39;49m\u001b[43m(\u001b[49m\u001b[38;5;28;43minput\u001b[39;49m\u001b[43m(\u001b[49m\u001b[38;5;124;43m\"\u001b[39;49m\u001b[38;5;124;43mMasukkan nilai Tn (Minimum Temperature): \u001b[39;49m\u001b[38;5;124;43m\"\u001b[39;49m\u001b[43m)\u001b[49m\u001b[43m)\u001b[49m\n\u001b[0;32m     32\u001b[0m Tx \u001b[38;5;241m=\u001b[39m \u001b[38;5;28mfloat\u001b[39m(\u001b[38;5;28minput\u001b[39m(\u001b[38;5;124m\"\u001b[39m\u001b[38;5;124mMasukkan nilai Tx (Maximum Temperature): \u001b[39m\u001b[38;5;124m\"\u001b[39m))\n\u001b[0;32m     33\u001b[0m Tavg \u001b[38;5;241m=\u001b[39m \u001b[38;5;28mfloat\u001b[39m(\u001b[38;5;28minput\u001b[39m(\u001b[38;5;124m\"\u001b[39m\u001b[38;5;124mMasukkan nilai Tavg (Average Temperature): \u001b[39m\u001b[38;5;124m\"\u001b[39m))\n",
      "\u001b[1;31mValueError\u001b[0m: could not convert string to float: '28.96,28.96'"
     ]
    }
   ],
   "source": [
    "from keras.models import load_model\n",
    "import numpy as np\n",
    "from sklearn.preprocessing import MinMaxScaler\n",
    "\n",
    "# Memuat model yang telah disimpan\n",
    "model = load_model('model_lstm.h5')\n",
    "print(\"Model loaded successfully.\")\n",
    "\n",
    "# Fungsi untuk menginputkan data dan memprediksi\n",
    "def predict_condition(Tn, Tx, Tavg, RH_avg, ff_avg, rad_m):\n",
    "    # Data input baru\n",
    "    new_data = np.array([[Tn, Tx, Tavg, RH_avg, ff_avg, rad_m]])\n",
    "    \n",
    "    # Normalisasi data baru menggunakan scaler yang sama seperti yang digunakan saat pelatihan\n",
    "    scaler = MinMaxScaler()\n",
    "    new_data_scaled = scaler.fit_transform(new_data)\n",
    "\n",
    "    # Reshape data untuk input LSTM (3D tensor)\n",
    "    new_data_reshaped = new_data_scaled.reshape((new_data_scaled.shape[0], 1, new_data_scaled.shape[1]))\n",
    "\n",
    "    # Gunakan model yang dimuat untuk prediksi\n",
    "    prediction = model.predict(new_data_reshaped)\n",
    "\n",
    "    # Tampilkan hasil prediksi (nilai probabilitas, 0 atau 1)\n",
    "    predicted_label = (prediction > 0.5).astype(int)\n",
    "    return 'Aman' if predicted_label[0][0] == 0 else 'Tidak Aman'\n",
    "\n",
    "\n",
    "# Contoh penggunaan:\n",
    "# Menginputkan fitur untuk prediksi\n",
    "Tn = float(input(\"Masukkan nilai Tn (Minimum Temperature): \"))\n",
    "Tx = float(input(\"Masukkan nilai Tx (Maximum Temperature): \"))\n",
    "Tavg = float(input(\"Masukkan nilai Tavg (Average Temperature): \"))\n",
    "RH_avg = float(input(\"Masukkan nilai RH_avg (Average Relative Humidity): \"))\n",
    "ff_avg = float(input(\"Masukkan nilai ff_avg (Average Wind Speed): \"))\n",
    "rad_m = float(input(\"Masukkan nilai rad_m (Normalized tidal height): \"))\n",
    "\n",
    "# Prediksi kondisi berdasarkan inputan\n",
    "condition = predict_condition(Tn, Tx, Tavg, RH_avg, ff_avg, rad_m)\n",
    "print(f\"Kondisi Prediksi: {condition}\")\n"
   ]
  }
 ],
 "metadata": {
  "kernelspec": {
   "display_name": "Python 3",
   "language": "python",
   "name": "python3"
  },
  "language_info": {
   "codemirror_mode": {
    "name": "ipython",
    "version": 3
   },
   "file_extension": ".py",
   "mimetype": "text/x-python",
   "name": "python",
   "nbconvert_exporter": "python",
   "pygments_lexer": "ipython3",
   "version": "3.12.7"
  }
 },
 "nbformat": 4,
 "nbformat_minor": 2
}
