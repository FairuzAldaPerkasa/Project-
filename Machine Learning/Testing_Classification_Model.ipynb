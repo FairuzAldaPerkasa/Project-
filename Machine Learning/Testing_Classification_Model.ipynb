{
 "cells": [
  {
   "cell_type": "code",
   "execution_count": 25,
   "execution_count": null,
   "execution_count": 1,
   "metadata": {},
   "outputs": [
    {
     "name": "stderr",
     "output_type": "stream",
     "text": [
      "WARNING:absl:Compiled the loaded model, but the compiled metrics have yet to be built. `model.compile_metrics` will be empty until you train or evaluate the model.\n"
     ]
    },
    {
     "name": "stdout",
     "output_type": "stream",
     "text": [
      "\u001b[1m1/1\u001b[0m \u001b[32m━━━━━━━━━━━━━━━━━━━━\u001b[0m\u001b[37m\u001b[0m \u001b[1m0s\u001b[0m 184ms/step\n",
      "Kondisi yang diprediksi: Tidak Aman\n"
     ]
    }
   ],
   "source": [
    "from keras.models import load_model\n",
    "import numpy as np\n",
    "\n",
    "# Memuat model yang sudah disimpan\n",
    "model = load_model('lstm_classification_model.h5')\n",
    "\n",
    "# Kompilasi model setelah pemuatan (untuk menghindari peringatan)\n",
    "model.compile(optimizer='adam', loss='sparse_categorical_crossentropy', metrics=['accuracy'])\n",
    "\n",
    "# Input data baru yang memenuhi kondisi 'Risiko' (contoh input 'Risiko' berdasarkan pola data Anda)\n",
    "# Sesuaikan input ini dengan kondisi yang sesuai untuk 'Risiko' (misalnya, suhu 30-35°C, kelembaban 70-85%, dll.)\n",
    "input_data = np.array([[25, 35, 30, 75, 7, 1.1]])  # Input yang memenuhi kondisi 'Risiko'\n",
    "\n",
    "# Jika model menggunakan sequence, bentuk input seperti ini\n",
    "input_sequence = input_data.reshape(1, 1, -1)  # Bentuk [1, 1, n_features]\n",
    "\n",
    "# Prediksi dengan model\n",
    "predictions = model.predict(input_sequence)\n",
    "\n",
    "# Menentukan kelas prediksi berdasarkan hasil model\n",
    "predicted_class = np.argmax(predictions, axis=1)\n",
    "\n",
    "# Mapping prediksi ke label kategori\n",
    "condition_mapping = {0: 'Aman', 1: 'Risiko', 2: 'Tidak Aman'}\n",
    "predicted_condition = condition_mapping[predicted_class[0]]\n",
    "\n",
    "# Menampilkan hasil prediksi\n",
    "print(f\"Kondisi yang diprediksi: {predicted_condition}\")\n"
   ]
  }
 ],
 "metadata": {
  "kernelspec": {
   "display_name": "Python 3",
   "language": "python",
   "name": "python3"
  },
  "language_info": {
   "codemirror_mode": {
    "name": "ipython",
    "version": 3
   },
   "file_extension": ".py",
   "mimetype": "text/x-python",
   "name": "python",
   "nbconvert_exporter": "python",
   "pygments_lexer": "ipython3",
   "version": "3.12.6"
  }
 },
 "nbformat": 4,
 "nbformat_minor": 2
}
