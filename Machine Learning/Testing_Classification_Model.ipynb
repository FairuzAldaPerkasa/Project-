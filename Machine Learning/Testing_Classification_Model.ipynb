{
 "cells": [
  {
   "cell_type": "code",
   "execution_count": 7,
   "metadata": {},
   "outputs": [
    {
     "name": "stderr",
     "output_type": "stream",
     "text": [
      "WARNING:absl:Compiled the loaded model, but the compiled metrics have yet to be built. `model.compile_metrics` will be empty until you train or evaluate the model.\n"
     ]
    },
    {
     "name": "stdout",
     "output_type": "stream",
     "text": [
      "Model dan scaler loaded successfully.\n"
     ]
    }
   ],
   "source": [
    "from keras.models import load_model\n",
    "import numpy as np\n",
    "from sklearn.preprocessing import MinMaxScaler\n",
    "import joblib  # Untuk menyimpan dan memuat scaler\n",
    "\n",
    "# Memuat model dan scaler yang telah disimpan\n",
    "model = load_model('model_lstm.h5')\n",
    "scaler = joblib.load('scaler.pkl')  # Memuat scaler yang sudah disimpan\n",
    "print(\"Model dan scaler loaded successfully.\")\n",
    "\n",
    "# Fungsi untuk menginputkan data dan memprediksi\n",
    "def predict_condition(Tn, Tx, Tavg, RH_avg, ff_avg, rad_m):\n",
    "    # Data input baru\n",
    "    new_data = np.array([[Tn, Tx, Tavg, RH_avg, ff_avg, rad_m]])\n",
    "\n",
    "    # Normalisasi data baru menggunakan scaler yang sama seperti yang digunakan saat pelatihan\n",
    "    new_data_scaled = scaler.transform(new_data)\n",
    "\n",
    "    # Reshape data untuk input LSTM (3D tensor)\n",
    "    new_data_reshaped = new_data_scaled.reshape((new_data_scaled.shape[0], 1, new_data_scaled.shape[1]))\n",
    "\n",
    "    # Gunakan model yang dimuat untuk prediksi\n",
    "    prediction = model.predict(new_data_reshaped)\n",
    "\n",
    "    # Tampilkan hasil prediksi (nilai probabilitas, 0 atau 1)\n",
    "    predicted_label = (prediction > 0.5).astype(int)\n",
    "    return 'Aman' if predicted_label[0][0] == 0 else 'Tidak Aman'\n",
    "\n"
   ]
  },
  {
   "cell_type": "code",
   "execution_count": null,
   "metadata": {},
   "outputs": [],
   "source": [
    "# Contoh penggunaan:\n",
    "# Menginputkan fitur untuk prediksi\n",
    "Tn = float(input(\"Masukkan nilai Tn (Minimum Temperature): \"))\n",
    "Tx = float(input(\"Masukkan nilai Tx (Maximum Temperature): \"))\n",
    "Tavg = float(input(\"Masukkan nilai Tavg (Average Temperature): \"))\n",
    "RH_avg = float(input(\"Masukkan nilai RH_avg (Average Relative Humidity): \"))\n",
    "ff_avg = float(input(\"Masukkan nilai ff_avg (Average Wind Speed): \"))\n",
    "rad_m = float(input(\"Masukkan nilai rad_m (Normalized tidal height): \"))\n",
    "\n",
    "# Prediksi kondisi berdasarkan inputan\n",
    "condition = predict_condition(Tn, Tx, Tavg, RH_avg, ff_avg, rad_m)\n",
    "print(f\"Kondisi Prediksi: {condition}\")\n"
   ]
  }
 ],
 "metadata": {
  "kernelspec": {
   "display_name": "Python 3",
   "language": "python",
   "name": "python3"
  },
  "language_info": {
   "codemirror_mode": {
    "name": "ipython",
    "version": 3
   },
   "file_extension": ".py",
   "mimetype": "text/x-python",
   "name": "python",
   "nbconvert_exporter": "python",
   "pygments_lexer": "ipython3",
   "version": "3.12.7"
  }
 },
 "nbformat": 4,
 "nbformat_minor": 2
}
