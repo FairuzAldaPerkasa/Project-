{
 "cells": [
  {
   "cell_type": "code",
   "execution_count": 1,
   "metadata": {},
   "outputs": [],
   "source": [
    "import pandas as pd\n",
    "listSheet = ['JAN20', 'FEB20', 'MAR20', 'APR20', 'MAY20', 'JUN20', 'JUL20', 'AUG20', 'SEP20', 'OCT20', 'NOV20', 'DES20']\n",
    "for sheet in listSheet:\n",
    "    df = pd.read_csv(f'{sheet}.csv')\n",
    "    if sheet == listSheet[0]:\n",
    "        df.to_csv('Weather_Gabungan_20.csv', index=False)\n",
    "    else:\n",
    "        df.to_csv('Weather_Gabungan_20.csv', mode='a', header=False, index=False)"
   ]
  }
 ],
 "metadata": {
  "kernelspec": {
   "display_name": "Python 3",
   "language": "python",
   "name": "python3"
  },
  "language_info": {
   "codemirror_mode": {
    "name": "ipython",
    "version": 3
   },
   "file_extension": ".py",
   "mimetype": "text/x-python",
   "name": "python",
   "nbconvert_exporter": "python",
   "pygments_lexer": "ipython3",
   "version": "3.12.6"
  }
 },
 "nbformat": 4,
 "nbformat_minor": 2
}
