{
 "cells": [
  {
   "cell_type": "code",
   "execution_count": null,
   "metadata": {},
   "outputs": [],
   "source": [
    "from flask import Flask, request, jsonify\n",
    "from keras.models import load_model\n",
    "import numpy as np\n",
    "import joblib\n",
    "import pandas as pd"
   ]
  },
  {
   "cell_type": "code",
   "execution_count": null,
   "metadata": {},
   "outputs": [],
   "source": [
    "# Membuat instance Flask app\n",
    "app = Flask(__name__)\n",
    "\n",
    "# 1. Memuat model Linear Regression dan Scaler untuk Normalisasi\n",
    "model_lr = load_model('Model/deep_learning_regression_model.h5')  # Model Linear Regression\n",
    "scaler_lr = joblib.load('Model/scaler_deep_learning_regression.pkl')  # Scaler untuk Linear Regression\n",
    "\n",
    "# 2. Memuat model Classification dan Scaler untuk Normalisasi\n",
    "model_class = load_model('Model/classification_model.h5')  # Model Classification\n",
    "scaler_class = joblib.load('Model/scaler_classification.pkl')  # Scaler untuk Classification\n",
    "\n",
    "print(\"Model Linear Regression dan Classification loaded successfully.\")"
   ]
  },
  {
   "cell_type": "code",
   "execution_count": null,
   "metadata": {},
   "outputs": [],
   "source": [
    "# Fungsi untuk memprediksi kondisi menggunakan model Classification\n",
    "def predict_condition(rad_value, input_features):\n",
    "    \"\"\"\n",
    "    Prediksi kondisi (Aman/Tidak Aman) berdasarkan nilai rad(m) yang diprediksi\n",
    "    dan fitur cuaca lainnya.\n",
    "    \"\"\"\n",
    "    # Menambahkan nilai rad(m) ke input_features untuk model Classification\n",
    "    input_features['rad_m'] = rad_value\n",
    "\n",
    "    # Menyiapkan data baru untuk model Classification\n",
    "    new_data = np.array([[input_features['Tn'], input_features['Tx'], input_features['Tavg'],\n",
    "                          input_features['RH_avg'], input_features['ff_avg'], input_features['rad_m']]])\n",
    "\n",
    "    # Melakukan normalisasi data dengan scaler Classification\n",
    "    new_data_scaled = scaler_class.transform(new_data)\n",
    "\n",
    "    # Reshape data untuk input model Classification (LSTM)\n",
    "    new_data_reshaped = new_data_scaled.reshape((new_data_scaled.shape[0], 1, new_data_scaled.shape[1]))\n",
    "\n",
    "    # Menggunakan model Classification untuk prediksi\n",
    "    prediction = model_class.predict(new_data_reshaped)\n",
    "\n",
    "    # Menentukan label prediksi (Aman atau Tidak Aman)\n",
    "    predicted_label = (prediction > 0.5).astype(int)\n",
    "    return 'Aman' if predicted_label[0][0] == 0 else 'Tidak Aman'\n"
   ]
  },
  {
   "cell_type": "code",
   "execution_count": null,
   "metadata": {},
   "outputs": [],
   "source": [
    "\n",
    "# Endpoint untuk menerima input dan mengembalikan prediksi\n",
    "@app.route('/predict', methods=['POST'])\n",
    "def predict():\n",
    "    # Mengambil data input dari request body\n",
    "    data = request.get_json()\n",
    "\n",
    "    # Memastikan data yang dibutuhkan ada\n",
    "    required_fields = ['Tn', 'Tx', 'Tavg', 'RH_avg', 'ff_avg']\n",
    "    if not all(field in data for field in required_fields):\n",
    "        return jsonify({'error': 'Missing required fields'}), 400\n",
    "\n",
    "    # Mengambil input features\n",
    "    input_features = {\n",
    "        'Tn': data['Tn'],\n",
    "        'Tx': data['Tx'],\n",
    "        'Tavg': data['Tavg'],\n",
    "        'RH_avg': data['RH_avg'],\n",
    "        'ff_avg': data['ff_avg'],\n",
    "    }\n",
    "\n",
    "    # Prediksi nilai rad(m) menggunakan model Linear Regression\n",
    "    predicted_rad = predict_rad(input_features)\n",
    "\n",
    "    # Prediksi kondisi berdasarkan rad(m) yang diprediksi\n",
    "    condition = predict_condition(predicted_rad, input_features)\n",
    "\n",
    "    # Mengembalikan hasil prediksi dalam format JSON\n",
    "    return jsonify({\n",
    "        'predicted_rad': predicted_rad,\n",
    "        'condition': condition\n",
    "    })\n",
    "\n",
    "# Menjalankan aplikasi Flask\n",
    "if __name__ == '__main__':\n",
    "    app.run(debug=True, host='0.0.0.0', port=5000)\n"
   ]
  }
 ],
 "metadata": {
  "kernelspec": {
   "display_name": "Python 3",
   "language": "python",
   "name": "python3"
  },
  "language_info": {
   "name": "python",
   "version": "3.12.8"
  }
 },
 "nbformat": 4,
 "nbformat_minor": 2
}
