{
 "cells": [
  {
   "cell_type": "code",
   "execution_count": 5,
   "metadata": {},
   "outputs": [],
   "source": [
    "from flask import Flask, request, jsonify\n",
    "from keras.models import load_model\n",
    "import numpy as np\n",
    "import joblib\n",
    "import pandas as pd"
   ]
  },
  {
   "cell_type": "code",
   "execution_count": 6,
   "metadata": {},
   "outputs": [
    {
     "name": "stderr",
     "output_type": "stream",
     "text": [
      "WARNING:absl:Compiled the loaded model, but the compiled metrics have yet to be built. `model.compile_metrics` will be empty until you train or evaluate the model.\n",
      "WARNING:absl:Compiled the loaded model, but the compiled metrics have yet to be built. `model.compile_metrics` will be empty until you train or evaluate the model.\n"
     ]
    },
    {
     "name": "stdout",
     "output_type": "stream",
     "text": [
      "Model Linear Regression dan Classification loaded successfully.\n"
     ]
    }
   ],
   "source": [
    "# Membuat instance Flask app\n",
    "app = Flask(__name__)\n",
    "\n",
    "# 1. Memuat model Linear Regression dan Scaler untuk Normalisasi\n",
    "model_lr = load_model('Model/deep_learning_regression_model.h5')  # Model Linear Regression\n",
    "scaler_lr = joblib.load('Model/scaler_deep_learning_regression.pkl')  # Scaler untuk Linear Regression\n",
    "\n",
    "# 2. Memuat model Classification dan Scaler untuk Normalisasi\n",
    "model_class = load_model('Model/classification_model.h5')  # Model Classification\n",
    "scaler_class = joblib.load('Model/scaler_classification.pkl')  # Scaler untuk Classification\n",
    "\n",
    "print(\"Model Linear Regression dan Classification loaded successfully.\")"
   ]
  },
  {
   "cell_type": "code",
   "execution_count": 7,
   "metadata": {},
   "outputs": [],
   "source": [
    "\n",
    "# Define a function for making predictions\n",
    "def predict_rad(features, scaler, model):\n",
    "    \"\"\"\n",
    "    Predict rad(m) value based on input weather features.\n",
    "\n",
    "    Parameters:\n",
    "        features (dict): A dictionary containing all feature values (Tn, Tx, Tavg, RH_avg, RR, ss, ff_x, ddd_x, ff_avg).\n",
    "        scaler (StandardScaler): Scaler used to normalize the features.\n",
    "        model (Sequential): Trained deep learning model.\n",
    "\n",
    "    Returns:\n",
    "        float: Predicted rad(m) value.\n",
    "    \"\"\"\n",
    "     # Convert input features to a DataFrame with the same column names as the scaler expects\n",
    "    feature_df = pd.DataFrame([features])\n",
    "    \n",
    "    # Scale the input features using the trained scaler\n",
    "    scaled_features = scaler.transform(feature_df)\n",
    "\n",
    "    # Predict rad(m) using the trained model\n",
    "    predicted_value = model.predict(scaled_features)\n",
    "\n",
    "    # Return the predicted rad(m) value\n",
    "    return predicted_value[0][0]\n"
   ]
  },
  {
   "cell_type": "code",
   "execution_count": 8,
   "metadata": {},
   "outputs": [],
   "source": [
    "# Fungsi untuk memprediksi kondisi menggunakan model Classification\n",
    "def predict_condition(rad_value, input_features):\n",
    "    \"\"\"\n",
    "    Prediksi kondisi (Aman/Tidak Aman) berdasarkan nilai rad(m) yang diprediksi\n",
    "    dan fitur cuaca lainnya.\n",
    "    \"\"\"\n",
    "    # Menambahkan nilai rad(m) ke input_features untuk model Classification\n",
    "    input_features['rad_m'] = rad_value\n",
    "\n",
    "    # Menyiapkan data baru untuk model Classification\n",
    "    new_data = np.array([[input_features['Tn'], input_features['Tx'], input_features['Tavg'],\n",
    "                          input_features['RH_avg'], input_features['ff_avg'], input_features['rad_m']]])\n",
    "\n",
    "    # Melakukan normalisasi data dengan scaler Classification\n",
    "    new_data_scaled = scaler_class.transform(new_data)\n",
    "\n",
    "    # Reshape data untuk input model Classification (LSTM)\n",
    "    new_data_reshaped = new_data_scaled.reshape((new_data_scaled.shape[0], 1, new_data_scaled.shape[1]))\n",
    "\n",
    "    # Menggunakan model Classification untuk prediksi\n",
    "    prediction = model_class.predict(new_data_reshaped)\n",
    "\n",
    "    # Menentukan label prediksi (Aman atau Tidak Aman)\n",
    "    predicted_label = (prediction > 0.5).astype(int)\n",
    "    return 'Aman' if predicted_label[0][0] == 0 else 'Tidak Aman'\n"
   ]
  },
  {
   "cell_type": "code",
   "execution_count": 9,
   "metadata": {},
   "outputs": [
    {
     "name": "stdout",
     "output_type": "stream",
     "text": [
      " * Serving Flask app '__main__'\n",
      " * Debug mode: on\n"
     ]
    },
    {
     "name": "stderr",
     "output_type": "stream",
     "text": [
      "INFO:werkzeug:\u001b[31m\u001b[1mWARNING: This is a development server. Do not use it in a production deployment. Use a production WSGI server instead.\u001b[0m\n",
      " * Running on all addresses (0.0.0.0)\n",
      " * Running on http://127.0.0.1:5000\n",
      " * Running on http://192.168.1.24:5000\n",
      "INFO:werkzeug:\u001b[33mPress CTRL+C to quit\u001b[0m\n",
      "INFO:werkzeug: * Restarting with watchdog (windowsapi)\n"
     ]
    },
    {
     "ename": "SystemExit",
     "evalue": "1",
     "output_type": "error",
     "traceback": [
      "An exception has occurred, use %tb to see the full traceback.\n",
      "\u001b[1;31mSystemExit\u001b[0m\u001b[1;31m:\u001b[0m 1\n"
     ]
    }
   ],
   "source": [
    "# Endpoint untuk menerima input dan mengembalikan prediksi\n",
    "@app.route('/predict', methods=['POST'])\n",
    "def predict():\n",
    "    # Mengambil data input dari request body\n",
    "    data = request.get_json()\n",
    "\n",
    "    # Memastikan data yang dibutuhkan ada\n",
    "    required_fields = ['Tn', 'Tx', 'Tavg', 'RH_avg', 'ff_avg']\n",
    "    if not all(field in data for field in required_fields):\n",
    "        return jsonify({'error': 'Missing required fields'}), 400\n",
    "\n",
    "    # Mengambil input features\n",
    "    input_features = {\n",
    "        'Tn': data['Tn'],\n",
    "        'Tx': data['Tx'],\n",
    "        'Tavg': data['Tavg'],\n",
    "        'RH_avg': data['RH_avg'],\n",
    "        'ff_avg': data['ff_avg'],\n",
    "    }\n",
    "\n",
    "    # Prediksi nilai rad(m) menggunakan model Linear Regression\n",
    "    predicted_rad = predict_rad(input_features)\n",
    "\n",
    "    # Prediksi kondisi berdasarkan rad(m) yang diprediksi\n",
    "    condition = predict_condition(predicted_rad, input_features)\n",
    "\n",
    "    # Mengembalikan hasil prediksi dalam format JSON\n",
    "    return jsonify({\n",
    "        'predicted_rad': predicted_rad,\n",
    "        'condition': condition\n",
    "    })\n",
    "\n",
    "# Menjalankan aplikasi Flask\n",
    "if __name__ == '__main__':\n",
    "    app.run(debug=True, host='0.0.0.0', port=5000)\n"
   ]
  }
 ],
 "metadata": {
  "kernelspec": {
   "display_name": "Python 3",
   "language": "python",
   "name": "python3"
  },
  "language_info": {
   "name": "python",
   "version": "3.12.8"
  }
 },
 "nbformat": 4,
 "nbformat_minor": 2
}
